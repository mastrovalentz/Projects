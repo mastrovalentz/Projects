{
 "cells": [
  {
   "cell_type": "markdown",
   "metadata": {},
   "source": [
    "# Clothes Classification with Neural Networks"
   ]
  },
  {
   "cell_type": "markdown",
   "metadata": {},
   "source": [
    "Student: Alessandro Valente \n",
    "\n",
    "Id: 1234429"
   ]
  },
  {
   "cell_type": "markdown",
   "metadata": {},
   "source": [
    "In this notebook we are going to explore the Neural Networks for image classification. We are going to use the same dataset of the SVM notebook: Fashion MNIST (https://pravarmahajan.github.io/fashion/), a dataset of small images of clothes and accessories.\n",
    "\n",
    "The dataset labels are the following:\n",
    "\n",
    "| Label | Description |\n",
    "| --- | --- |\n",
    "| 0 | T-shirt/top |\n",
    "| 1 | Trouser |\n",
    "| 2 | Pullover |\n",
    "| 3 | Dress |\n",
    "| 4 | Coat |\n",
    "| 5 | Sandal |\n",
    "| 6 | Shirt |\n",
    "| 7 | Sneaker |\n",
    "| 8 | Bag |\n",
    "| 9 | Ankle boot |"
   ]
  },
  {
   "cell_type": "code",
   "execution_count": 1,
   "metadata": {},
   "outputs": [
    {
     "name": "stdout",
     "output_type": "stream",
     "text": [
      "scikit-learn version:  0.20.3\n"
     ]
    }
   ],
   "source": [
    "#load the required packages and check Scikit-learn version\n",
    "\n",
    "%matplotlib inline  \n",
    "\n",
    "import pandas as pd\n",
    "import numpy as np\n",
    "import scipy as sp\n",
    "import matplotlib.pyplot as plt\n",
    "\n",
    "import sklearn\n",
    "print ('scikit-learn version: ', sklearn.__version__)\n",
    "from sklearn.neural_network import MLPClassifier\n",
    "from sklearn.model_selection import GridSearchCV\n",
    "from sklearn.svm import SVC"
   ]
  },
  {
   "cell_type": "code",
   "execution_count": 2,
   "metadata": {},
   "outputs": [],
   "source": [
    "# helper function to load Fashion MNIST dataset from disk\n",
    "def load_mnist(path, kind='train'):\n",
    "    import os\n",
    "    import gzip\n",
    "    import numpy as np\n",
    "    labels_path = os.path.join(path, '%s-labels-idx1-ubyte.gz' % kind)\n",
    "    images_path = os.path.join(path, '%s-images-idx3-ubyte.gz' % kind)\n",
    "    with gzip.open(labels_path, 'rb') as lbpath:\n",
    "        labels = np.frombuffer(lbpath.read(), dtype=np.uint8,offset=8)\n",
    "    with gzip.open(images_path, 'rb') as imgpath:\n",
    "        images = np.frombuffer(imgpath.read(), dtype=np.uint8,offset=16).reshape(len(labels), 784)\n",
    "    return images, labels"
   ]
  },
  {
   "cell_type": "markdown",
   "metadata": {},
   "source": [
    "# TODO \n",
    "Place a seed for the random generator (you can use your \"numero di matricola\"). Try to change the seed to see the impact of the randomization."
   ]
  },
  {
   "cell_type": "code",
   "execution_count": 3,
   "metadata": {},
   "outputs": [],
   "source": [
    "ID = 1234429\n",
    "np.random.seed(ID)"
   ]
  },
  {
   "cell_type": "code",
   "execution_count": 4,
   "metadata": {},
   "outputs": [
    {
     "name": "stdout",
     "output_type": "stream",
     "text": [
      "Number of samples in the MNIST dataset: 60000\n"
     ]
    }
   ],
   "source": [
    "#load the MNIST dataset and let's normalize the features so that each value is in [0,1]\n",
    "X, y = load_mnist(\"data\")\n",
    "print(\"Number of samples in the MNIST dataset:\", X.shape[0])\n",
    "# rescale the data\n",
    "X = X / 255.0"
   ]
  },
  {
   "cell_type": "markdown",
   "metadata": {},
   "source": [
    "Now split into training and test. We start with a small training set of 600 samples to reduce computation time. Make sure that each label is present at least 10 times\n",
    "in training frequencies."
   ]
  },
  {
   "cell_type": "code",
   "execution_count": 5,
   "metadata": {},
   "outputs": [
    {
     "name": "stdout",
     "output_type": "stream",
     "text": [
      "Labels in training dataset:  [0 1 2 3 4 5 6 7 8 9]\n",
      "Frequencies in training dataset:  [63 62 53 67 61 56 60 64 48 66]\n"
     ]
    }
   ],
   "source": [
    "#random permute the data and split into training and test taking the first 600\n",
    "#data samples as training and the rests as test\n",
    "permutation = np.random.permutation(X.shape[0])\n",
    "\n",
    "X = X[permutation]\n",
    "y = y[permutation]\n",
    "\n",
    "m_training = 600\n",
    "\n",
    "X_train, X_test = X[:m_training], X[m_training:]\n",
    "y_train, y_test = y[:m_training], y[m_training:]\n",
    "\n",
    "labels, freqs = np.unique(y_train, return_counts=True)\n",
    "print(\"Labels in training dataset: \", labels)\n",
    "print(\"Frequencies in training dataset: \", freqs)\n"
   ]
  },
  {
   "cell_type": "code",
   "execution_count": 6,
   "metadata": {},
   "outputs": [],
   "source": [
    "#function for plotting a image and printing the corresponding label\n",
    "def plot_input(X_matrix, labels, index):\n",
    "    print(\"INPUT:\")\n",
    "    plt.imshow(\n",
    "        X_matrix[index].reshape(28,28),\n",
    "        cmap          = plt.cm.gray_r,\n",
    "        interpolation = \"nearest\"\n",
    "    )\n",
    "    plt.show()\n",
    "    print(\"LABEL: %i\"%labels[index])\n",
    "    return"
   ]
  },
  {
   "cell_type": "code",
   "execution_count": 7,
   "metadata": {},
   "outputs": [
    {
     "name": "stdout",
     "output_type": "stream",
     "text": [
      "INPUT:\n"
     ]
    },
    {
     "data": {
      "image/png": "[encoded data removed]",
      "text/plain": [
       "<Figure size 432x288 with 1 Axes>"
      ]
     },
     "metadata": {
      "needs_background": "light"
     },
     "output_type": "display_data"
    },
    {
     "name": "stdout",
     "output_type": "stream",
     "text": [
      "LABEL: 6\n",
      "INPUT:\n"
     ]
    },
    {
     "data": {
      "image/png": "[encoded data removed]",
      "text/plain": [
       "<Figure size 432x288 with 1 Axes>"
      ]
     },
     "metadata": {
      "needs_background": "light"
     },
     "output_type": "display_data"
    },
    {
     "name": "stdout",
     "output_type": "stream",
     "text": [
      "LABEL: 7\n",
      "INPUT:\n"
     ]
    },
    {
     "data": {
      "image/png": "[encoded data removed]",
      "text/plain": [
       "<Figure size 432x288 with 1 Axes>"
      ]
     },
     "metadata": {
      "needs_background": "light"
     },
     "output_type": "display_data"
    },
    {
     "name": "stdout",
     "output_type": "stream",
     "text": [
      "LABEL: 6\n"
     ]
    }
   ],
   "source": [
    "#let's try the plotting function\n",
    "plot_input(X_train,y_train,10)\n",
    "plot_input(X_test,y_test,100)\n",
    "plot_input(X_test,y_test,10000)"
   ]
  },
  {
   "cell_type": "markdown",
   "metadata": {},
   "source": [
    "## TO DO 1\n",
    "\n",
    "Now use a feed-forward Neural Network for prediction. Use the multi-layer perceptron classifier, with the following parameters: max_iter=300, alpha=1e-4, solver='sgd', tol=1e-4, learning_rate_init=.1, random_state=ID (this last parameter ensures the run is the same even if you run it more than once). The alpha parameter is the regularization term.\n",
    "\n",
    "Then, using the default activation function, pick four or five architectures to consider, with different numbers of hidden layers and different sizes. It is not necessary to create huge neural networks, you can limit to 3 layers and, for each layer, its maximum size can be of 100. Evaluate the architectures you chose using GridSearchCV with cv=5.\n",
    "\n",
    "You can reduce the number of iterations if the running time is too long on your computer.\n"
   ]
  },
  {
   "cell_type": "code",
   "execution_count": 8,
   "metadata": {},
   "outputs": [
    {
     "name": "stderr",
     "output_type": "stream",
     "text": [
      "/home/alessandro/anaconda3/lib/python3.7/site-packages/sklearn/model_selection/_search.py:841: DeprecationWarning: The default of the `iid` parameter will change from True to False in version 0.22 and will be removed in 0.24. This will change numeric results when test-set sizes are unequal.\n",
      "  DeprecationWarning)\n"
     ]
    },
    {
     "name": "stdout",
     "output_type": "stream",
     "text": [
      "RESULTS FOR NN\n",
      "\n",
      "Best parameters set found:\n",
      "{'hidden_layer_sizes': (100,)}\n",
      "Score with best parameters:\n",
      "0.8033333333333333\n",
      "\n",
      "All scores on the grid:\n",
      "                                     params  mean_test_score  mean_train_score\n",
      "0             {'hidden_layer_sizes': (10,)}         0.773333          1.000000\n",
      "1             {'hidden_layer_sizes': (20,)}         0.768333          0.988342\n",
      "2             {'hidden_layer_sizes': (40,)}         0.785000          1.000000\n",
      "3             {'hidden_layer_sizes': (60,)}         0.791667          1.000000\n",
      "4             {'hidden_layer_sizes': (80,)}         0.795000          1.000000\n",
      "5            {'hidden_layer_sizes': (100,)}         0.803333          1.000000\n",
      "6          {'hidden_layer_sizes': (40, 20)}         0.775000          0.956929\n",
      "7          {'hidden_layer_sizes': (50, 30)}         0.755000          0.926912\n",
      "8          {'hidden_layer_sizes': (40, 20)}         0.775000          0.956929\n",
      "9          {'hidden_layer_sizes': (70, 60)}         0.775000          0.936058\n",
      "10        {'hidden_layer_sizes': (100, 90)}         0.795000          0.982500\n",
      "11       {'hidden_layer_sizes': (100, 100)}         0.755000          0.946378\n",
      "12     {'hidden_layer_sizes': (40, 30, 20)}         0.540000          0.605697\n",
      "13     {'hidden_layer_sizes': (60, 50, 40)}         0.706667          0.813320\n",
      "14     {'hidden_layer_sizes': (80, 70, 60)}         0.671667          0.783329\n",
      "15    {'hidden_layer_sizes': (100, 90, 80)}         0.631667          0.732323\n",
      "16  {'hidden_layer_sizes': (100, 100, 100)}         0.716667          0.861136\n"
     ]
    }
   ],
   "source": [
    "# these are sample values but feel free to change them as you like, try to experiment with different sizes!!\n",
    "parameters = {'hidden_layer_sizes': [(10,), (20,), (40,), (60,), (80,), (100,),\n",
    "                                     (40,20,), (50,30,), (40,20,), (70,60,), (100,90,), (100,100), \n",
    "                                     (40,30,20), (60,50,40), (80,70,60), (100,90,80), (100,100,100)\n",
    "                                    ]}\n",
    "\n",
    "mlp = MLPClassifier(max_iter=300, alpha=1e-4, solver='sgd',\n",
    "                    tol=1e-4, random_state=ID,\n",
    "                    learning_rate_init=.1)\n",
    "\n",
    "NNclasf = GridSearchCV (mlp, parameters, cv=5, return_train_score=True)\n",
    "NNclasf.fit(X_train, y_train)\n",
    "NNResult = pd.DataFrame (NNclasf.cv_results_)\n",
    "\n",
    "print ('RESULTS FOR NN\\n')\n",
    "print(\"Best parameters set found:\")\n",
    "print(NNclasf.best_params_)\n",
    "print(\"Score with best parameters:\")\n",
    "print(NNclasf.best_score_)\n",
    "print(\"\\nAll scores on the grid:\")\n",
    "print(NNResult[['params', 'mean_test_score', 'mean_train_score']])\n"
   ]
  },
  {
   "cell_type": "markdown",
   "metadata": {},
   "source": [
    "### TO DO 2\n",
    "\n",
    "Now try also different batch sizes, while keeping the best NN architecture you have found above. Remember that the batch size was previously set to the default value, i.e., min(200, n_samples). \n",
    "Recall that a batch size of 1 corresponds to baseline SGD, while using all the 480 training samples (there are 600 samples but in cross validation with 5 folders we use 1/5 of them for validation at each round) corresponds to standard GD and using a different mini-batch size lies in the middle between the two extreme cases."
   ]
  },
  {
   "cell_type": "code",
   "execution_count": 9,
   "metadata": {},
   "outputs": [
    {
     "name": "stdout",
     "output_type": "stream",
     "text": [
      "RESULTS FOR NN best layer\n",
      "\n",
      "Best parameters set found:\n",
      "{'batch_size': 200}\n",
      "Score with best parameters:\n",
      "0.8116666666666666\n",
      "\n",
      "All scores on the grid:\n",
      "                 params  mean_test_score  mean_train_score\n",
      "0    {'batch_size': 20}         0.701667          0.869583\n",
      "1    {'batch_size': 40}         0.793333          1.000000\n",
      "2    {'batch_size': 60}         0.796667          1.000000\n",
      "3    {'batch_size': 80}         0.800000          1.000000\n",
      "4   {'batch_size': 100}         0.806667          1.000000\n",
      "5   {'batch_size': 120}         0.805000          1.000000\n",
      "6   {'batch_size': 140}         0.810000          1.000000\n",
      "7   {'batch_size': 160}         0.806667          1.000000\n",
      "8   {'batch_size': 180}         0.806667          1.000000\n",
      "9   {'batch_size': 200}         0.811667          1.000000\n",
      "10  {'batch_size': 220}         0.805000          1.000000\n",
      "11  {'batch_size': 240}         0.806667          1.000000\n",
      "12  {'batch_size': 260}         0.805000          1.000000\n",
      "13  {'batch_size': 280}         0.810000          1.000000\n",
      "14  {'batch_size': 300}         0.808333          1.000000\n",
      "15  {'batch_size': 320}         0.808333          1.000000\n",
      "16  {'batch_size': 340}         0.803333          1.000000\n",
      "17  {'batch_size': 360}         0.808333          1.000000\n",
      "18  {'batch_size': 380}         0.806667          1.000000\n",
      "19  {'batch_size': 400}         0.800000          1.000000\n",
      "20  {'batch_size': 420}         0.795000          1.000000\n",
      "21  {'batch_size': 440}         0.806667          0.996667\n",
      "22  {'batch_size': 460}         0.751667          0.909583\n",
      "23  {'batch_size': 480}         0.803333          0.984583\n"
     ]
    }
   ],
   "source": [
    "# these are sample values corresponding to baseline SGD, a reasonable mini-batch size and standard GD\n",
    "# again feel free to change them as you like, try to experiment with different batch sizes!!\n",
    "parameters = {'batch_size': [x*20 for x in range (1,25)]}\n",
    "\n",
    "# need to specify that you would like to use the standard k-fold split otherwise sklearn create splits of different sizes\n",
    "kf = sklearn.model_selection.KFold(n_splits=5)\n",
    "mlp_bl = MLPClassifier(hidden_layer_sizes=NNclasf.best_params_['hidden_layer_sizes'], \n",
    "                       max_iter=300, alpha=1e-4, solver='sgd', \n",
    "                       tol=1e-4, random_state=ID,\n",
    "                       learning_rate_init=.1)\n",
    "# recall to use cv=kf in GridSearchCV parameters to use the k-fold subdivision seen in the lectures\n",
    "\n",
    "NNclasf_bestlayer = GridSearchCV (mlp_bl, parameters, cv=kf, return_train_score=True )\n",
    "NNclasf_bestlayer.fit(X_train, y_train)\n",
    "NNResult_bestlayer = pd.DataFrame (NNclasf_bestlayer.cv_results_)\n",
    "\n",
    "print ('RESULTS FOR NN best layer\\n')\n",
    "\n",
    "print(\"Best parameters set found:\")\n",
    "print(NNclasf_bestlayer.best_params_)\n",
    "print(\"Score with best parameters:\")\n",
    "print(NNclasf_bestlayer.best_score_)\n",
    "print(\"\\nAll scores on the grid:\")\n",
    "print(NNResult_bestlayer[['params', 'mean_test_score', 'mean_train_score']])"
   ]
  },
  {
   "cell_type": "markdown",
   "metadata": {},
   "source": [
    "### QUESTION 1\n",
    "\n",
    "What do you observe for different architectures and batch sizes? How do the number of layers and their sizes affect the performances? What do you observe for different batch sizes, in particular what happens to the training convergence for different batch sizes (notice that the algorithm could not converge for some batch sizes)?"
   ]
  },
  {
   "cell_type": "markdown",
   "metadata": {},
   "source": [
    "## [ANSWER TO QUESTION 1]\n",
    "\n",
    "I observe that increasing the number of layers in this case does not improve the estimation on the contrary the best score is obtained with only one layer, this is probably due to the dimension of the data set and its type, not being too complicated using too many layers may overfit the training data.\n",
    "As expected with a bigger layer size the score increases as well. The two \"extreme\" cases for the batch size are the ones with the lowest score while the default option (200) is the one with the best score as i would expect even thou is possible to argue that the score with 200 and 480 is similar but in the 200 case the NN is probably overfitting since it's training score is 1."
   ]
  },
  {
   "cell_type": "markdown",
   "metadata": {},
   "source": [
    "### TO DO 3\n",
    "\n",
    "Now try also to use different learning rates, while keeping the best NN architecture and batch size you have found above. Plot the learning curves (i.e., the variation of the loss over the steps, you can get it from the loss_curve_ object of sklearn) for the different values of the learning rate . "
   ]
  },
  {
   "cell_type": "code",
   "execution_count": 10,
   "metadata": {},
   "outputs": [
    {
     "name": "stderr",
     "output_type": "stream",
     "text": [
      "/home/alessandro/anaconda3/lib/python3.7/site-packages/sklearn/neural_network/multilayer_perceptron.py:562: ConvergenceWarning: Stochastic Optimizer: Maximum iterations (300) reached and the optimization hasn't converged yet.\n",
      "  % self.max_iter, ConvergenceWarning)\n",
      "/home/alessandro/anaconda3/lib/python3.7/site-packages/sklearn/neural_network/multilayer_perceptron.py:562: ConvergenceWarning: Stochastic Optimizer: Maximum iterations (300) reached and the optimization hasn't converged yet.\n",
      "  % self.max_iter, ConvergenceWarning)\n"
     ]
    },
    {
     "data": {
      "image/png": "[encoded data removed]",
      "text/plain": [
       "<Figure size 432x288 with 1 Axes>"
      ]
     },
     "metadata": {
      "needs_background": "light"
     },
     "output_type": "display_data"
    },
    {
     "name": "stdout",
     "output_type": "stream",
     "text": [
      "RESULTS FOR NN best batch size\n",
      "\n",
      "Best parameters set found:\n",
      "0.1\n",
      "Score with best parameters:\n",
      "0.7802188552188553\n",
      "all scores\n",
      "{0.001: 0.7586363636363637, 0.01: 0.7738720538720538, 0.1: 0.7802188552188553}\n"
     ]
    }
   ],
   "source": [
    "%matplotlib inline\n",
    "\n",
    "lr_list = [10**exp for exp in range(-3,0)]\n",
    "color=['tab:red', 'tab:blue', 'tab:green']\n",
    "score={}\n",
    "for i in range(3):\n",
    "        mlp_bb = MLPClassifier(hidden_layer_sizes=NNclasf.best_params_['hidden_layer_sizes'], \n",
    "                       batch_size=NNclasf_bestlayer.best_params_['batch_size'],\n",
    "                       max_iter=300, alpha=1e-4, solver='sgd', \n",
    "                       tol=1e-4, random_state=ID,\n",
    "                       learning_rate_init=lr_list[i])\n",
    "        mlp_bb.fit(X_train, y_train)\n",
    "        k=lr_list[i]\n",
    "        score[k]=mlp_bb.score(X_test, y_test)\n",
    "        plt.plot(mlp_bb.loss_curve_, color=color[i])\n",
    "\n",
    "plt.show()\n",
    "print ('RESULTS FOR NN best batch size\\n')\n",
    "\n",
    "print(\"Best parameters set found:\")\n",
    "print(max(score))\n",
    "print(\"Score with best parameters:\")\n",
    "print(score[max(score)])\n",
    "print(\"all scores\")\n",
    "print(score)\n"
   ]
  },
  {
   "cell_type": "markdown",
   "metadata": {},
   "source": [
    "### QUESTION 2\n",
    "\n",
    "Comment about the learning curves (i.e. the variation of the loss over the steps). How does the curve changes for different learning rates in terms of stability and speed of convergence ?"
   ]
  },
  {
   "cell_type": "markdown",
   "metadata": {},
   "source": [
    "## [ANSWER TO QUESTION 2]\n",
    "\n",
    "It is clearly visible that the value 0.1 for the learing rate is the best mainly for two reasons: the 0.1 learing curve is the one that reach it's asyntotic value faster and furthermore the other 2 values are not able to make the algorithm converge with the iteration cap setted; they will probably converge to a similar value but the 0.1 curve is very faster compared to the other 2"
   ]
  },
  {
   "cell_type": "markdown",
   "metadata": {},
   "source": [
    "### TO DO 4\n",
    "\n",
    "Now get training and test error for a NN with best parameters (architecture, batch size and learning rate)from above. Plot the learning curve also for this case."
   ]
  },
  {
   "cell_type": "code",
   "execution_count": 11,
   "metadata": {},
   "outputs": [
    {
     "name": "stdout",
     "output_type": "stream",
     "text": [
      "\n",
      "RESULTS FOR BEST NN\n",
      "\n",
      "Best NN training error: 0.000000\n",
      "Best NN test error: 0.219781\n"
     ]
    },
    {
     "data": {
      "image/png": "[encoded data removed]",
      "text/plain": [
       "<Figure size 432x288 with 1 Axes>"
      ]
     },
     "metadata": {
      "needs_background": "light"
     },
     "output_type": "display_data"
    }
   ],
   "source": [
    "#get training and test error for the best NN model from CV\n",
    "\n",
    "best_mlp = MLPClassifier(hidden_layer_sizes=NNclasf.best_params_['hidden_layer_sizes'], \n",
    "                       batch_size=NNclasf_bestlayer.best_params_['batch_size'],\n",
    "                       max_iter=300, alpha=1e-4, solver='sgd', \n",
    "                       tol=1e-4, random_state=ID,\n",
    "                       learning_rate_init=max(score))\n",
    "best_mlp.fit(X_train, y_train)\n",
    "training_error = 1. - best_mlp.score(X_train,y_train)\n",
    "test_error = 1. - best_mlp.score(X_test,y_test)\n",
    "\n",
    "print ('\\nRESULTS FOR BEST NN\\n')\n",
    "\n",
    "print (\"Best NN training error: %f\" % training_error)\n",
    "print (\"Best NN test error: %f\" % test_error)\n",
    "\n",
    "plt.plot(best_mlp.loss_curve_)\n",
    "plt.show()"
   ]
  },
  {
   "cell_type": "markdown",
   "metadata": {},
   "source": [
    "## More data \n",
    "Now let's do the same but using 5000 (or less if it takes too long on your machine) data points for training. Use the same NN architecture as before, but you can try more if you like and have a powerful computer !!"
   ]
  },
  {
   "cell_type": "code",
   "execution_count": 12,
   "metadata": {},
   "outputs": [
    {
     "name": "stdout",
     "output_type": "stream",
     "text": [
      "Labels in training dataset:  [0 1 2 3 4 5 6 7 8 9]\n",
      "Frequencies in training dataset:  [521 543 477 466 489 493 496 491 521 503]\n"
     ]
    }
   ],
   "source": [
    "X = X[permutation]\n",
    "y = y[permutation]\n",
    "\n",
    "m_training = 5000\n",
    "\n",
    "X_train, X_test = X[:m_training], X[m_training:]\n",
    "y_train, y_test = y[:m_training], y[m_training:]\n",
    "\n",
    "labels, freqs = np.unique(y_train, return_counts=True)\n",
    "print(\"Labels in training dataset: \", labels)\n",
    "print(\"Frequencies in training dataset: \", freqs)"
   ]
  },
  {
   "cell_type": "markdown",
   "metadata": {},
   "source": [
    "## TO DO 5\n",
    "\n",
    "Now train the NNs with the added data points using the optimum parameters found above. Eventually, feel free to try different architectures if you like. We suggest that you use 'verbose=True' so have an idea of how long it takes to run 1 iteration (eventually reduce also the number of iterations to 50)."
   ]
  },
  {
   "cell_type": "code",
   "execution_count": 13,
   "metadata": {},
   "outputs": [
    {
     "name": "stdout",
     "output_type": "stream",
     "text": [
      "\n",
      "RESULTS FOR NN large set\n",
      "\n",
      "NN training error: 0.211600\n",
      "NN test error: 0.218127\n"
     ]
    }
   ],
   "source": [
    "# use best architecture and params from before\n",
    "\n",
    "best_mlp_large = MLPClassifier(hidden_layer_sizes=NNclasf.best_params_['hidden_layer_sizes'], \n",
    "                       batch_size=NNclasf_bestlayer.best_params_['batch_size'],\n",
    "                       max_iter=300, alpha=1e-4, solver='sgd', \n",
    "                       tol=1e-4, random_state=ID, # verbose=True,\n",
    "                       learning_rate_init=.1)\n",
    "best_mlp_large.fit(X_train, y_train)\n",
    "training_error = 1. - best_mlp.score(X_train,y_train)\n",
    "test_error = 1. - best_mlp.score(X_test,y_test)\n",
    "\n",
    "print ('\\nRESULTS FOR NN large set\\n')\n",
    "\n",
    "print (\"NN training error: %f\" % training_error)\n",
    "print (\"NN test error: %f\" % test_error)\n"
   ]
  },
  {
   "cell_type": "markdown",
   "metadata": {},
   "source": [
    "## QUESTION 3\n",
    "Compare the train and test errors you got with a large number of samples with the best one you obtained with only 600 data points. Comment about the results you obtained."
   ]
  },
  {
   "cell_type": "markdown",
   "metadata": {},
   "source": [
    "## [ANSWER TO QUESTION 3]\n",
    "\n",
    "The training error in the small dataset is 0 this can be interpreted as an overfit over the data but in the larger data set the value is 0.2 which is a little bigger then expected but it means that the model used to classify is corrected.\n",
    "\n",
    "The test set error is almost equal in the two cases as i would expect meaning that the wodel work well for both big and small data sets, in particular in the big data set test and training score are very similar so we can say that the model works well even if i would expect a training error a little smaller."
   ]
  },
  {
   "cell_type": "markdown",
   "metadata": {},
   "source": [
    "### TO DO 7\n",
    "\n",
    "Plot an example that was missclassified by NN with m=600 training data points and it is now instead correctly classified by NN with m=5000 training data points."
   ]
  },
  {
   "cell_type": "code",
   "execution_count": 14,
   "metadata": {},
   "outputs": [
    {
     "name": "stdout",
     "output_type": "stream",
     "text": [
      "INPUT:\n"
     ]
    },
    {
     "data": {
      "image/png": "[encoded data removed]",
      "text/plain": [
       "<Figure size 432x288 with 1 Axes>"
      ]
     },
     "metadata": {
      "needs_background": "light"
     },
     "output_type": "display_data"
    },
    {
     "name": "stdout",
     "output_type": "stream",
     "text": [
      "LABEL: 4\n",
      "small set prediction : 2\n",
      "large set prediction : 4\n",
      "  correct prediction : 4\n"
     ]
    }
   ],
   "source": [
    "NN_prediction = best_mlp.predict(X_test)\n",
    "large_NN_prediction = best_mlp_large.predict(X_test)\n",
    "\n",
    "for i in range(len(NN_prediction)):\n",
    "    if ((NN_prediction[i]!=large_NN_prediction[i]) and (large_NN_prediction[i]==y_test[i])):\n",
    "        plot_input(X_test, y_test, i)\n",
    "        print(\"small set prediction :\", NN_prediction[i])\n",
    "        print(\"large set prediction :\", large_NN_prediction[i])\n",
    "        print(\"  correct prediction :\", y_test[i])\n",
    "        break\n"
   ]
  },
  {
   "cell_type": "markdown",
   "metadata": {},
   "source": [
    "### TO DO 8\n",
    "\n",
    "Let's plot the weigths of the multi-layer perceptron classifier, for the best NN we get with 600 data points and with 5000 data points. The code is already provided, just fix variable names (e.g., replace mlp ,  mlp_large with your estimators) in order to have it working with your implementation\n",
    "\n"
   ]
  },
  {
   "cell_type": "code",
   "execution_count": 15,
   "metadata": {},
   "outputs": [
    {
     "name": "stdout",
     "output_type": "stream",
     "text": [
      "Weights with 600 data points:\n"
     ]
    },
    {
     "data": {
      "image/png": "[encoded data removed]",
      "text/plain": [
       "<Figure size 432x288 with 16 Axes>"
      ]
     },
     "metadata": {},
     "output_type": "display_data"
    },
    {
     "name": "stdout",
     "output_type": "stream",
     "text": [
      "Weights with 5000 data points:\n"
     ]
    },
    {
     "data": {
      "image/png": "[encoded data removed]",
      "text/plain": [
       "<Figure size 432x288 with 16 Axes>"
      ]
     },
     "metadata": {},
     "output_type": "display_data"
    }
   ],
   "source": [
    "# The code is already provided, fix variable names in order to have it working with your implementation\n",
    "\n",
    "print(\"Weights with 600 data points:\")\n",
    "\n",
    "fig, axes = plt.subplots(4, 4)\n",
    "vmin, vmax = best_mlp.coefs_[0].min(), best_mlp.coefs_[0].max()\n",
    "for coef, ax in zip(best_mlp.coefs_[0].T, axes.ravel()):\n",
    "    ax.matshow(coef.reshape(28, 28), cmap=plt.cm.gray, vmin=.5 * vmin,\n",
    "               vmax=.5 * vmax)\n",
    "    ax.set_xticks(())\n",
    "    ax.set_yticks(())\n",
    "\n",
    "plt.show()\n",
    "\n",
    "print(\"Weights with 5000 data points:\")\n",
    "\n",
    "fig, axes = plt.subplots(4, 4)\n",
    "vmin, vmax = best_mlp_large.coefs_[0].min(), best_mlp_large.coefs_[0].max()\n",
    "for coef, ax in zip(best_mlp_large.coefs_[0].T, axes.ravel()):\n",
    "    ax.matshow(coef.reshape(28, 28), cmap=plt.cm.gray, vmin=.5 * vmin,\n",
    "               vmax=.5 * vmax)\n",
    "    ax.set_xticks(())\n",
    "    ax.set_yticks(())\n",
    "plt.show()"
   ]
  },
  {
   "cell_type": "markdown",
   "metadata": {},
   "source": [
    "## QUESTION 4\n",
    "\n",
    "Describe what do you observe by looking at the weights"
   ]
  },
  {
   "cell_type": "markdown",
   "metadata": {},
   "source": [
    "## [ANSWER TO QUESTION 4]\n",
    "\n",
    "Comparing the weights from the 2 datasets is visible that for the bigger data set the images are \"smoother\" is the sense that the coefficients are more uniformally determinated.\n",
    "In the small data set the images have a worst \"resolution\" meaning that the values have big flutctuations is their estimation.\n",
    "This is similar to the SVM case where the coefficient have high fluctuating value without regularization and more \"uniform\" values with it."
   ]
  },
  {
   "cell_type": "markdown",
   "metadata": {},
   "source": [
    "### TO DO 9\n",
    "\n",
    "Report the best SVM model and its parameters, you found in the last notebook (or check out the solution on the moodle webpage of the course). Fit it on a few data points and compute its training and test scores."
   ]
  },
  {
   "cell_type": "code",
   "execution_count": 16,
   "metadata": {},
   "outputs": [
    {
     "name": "stdout",
     "output_type": "stream",
     "text": [
      "RESULTS FOR SVM\n",
      "Training score SVM:\n",
      "0.0021999999999999797\n",
      "Test score SVM:\n",
      "0.13839999999999997\n"
     ]
    }
   ],
   "source": [
    "m_training = 5000\n",
    "\n",
    "X_train, X_test = X[:m_training], X[m_training:2*m_training]\n",
    "y_train, y_test = y[:m_training], y[m_training:2*m_training]\n",
    "\n",
    "# use best parameters found in the SVM notebook, create SVM and perform fitting\n",
    "\n",
    "best_SVM = SVC(C=50,gamma=0.005,kernel='rbf')\n",
    "best_SVM.fit(X_train,y_train)\n",
    "\n",
    "print ('RESULTS FOR SVM')\n",
    "SVM_training_error = 1. - best_SVM.score(X_train,y_train)\n",
    "SVM_test_error = 1. - best_SVM.score(X_test,y_test)\n",
    "\n",
    "print(\"Training score SVM:\")\n",
    "print(SVM_training_error)\n",
    "\n",
    "print(\"Test score SVM:\")\n",
    "print(SVM_test_error)"
   ]
  },
  {
   "cell_type": "markdown",
   "metadata": {},
   "source": [
    "## QUESTION 5\n",
    "Compare the results of SVM and of NN. Which one would you prefer? "
   ]
  },
  {
   "cell_type": "markdown",
   "metadata": {},
   "source": [
    "## [ANSWER TO QUESTION 5]\n",
    "\n",
    "The scores obtained from the SVM are clearly better then the ones obtained with the NN so for this particular dataset i would prefer the SVM hoiwever for very big dataset the NN may be a better choiuce since the time needed for the SVM to converge i pretty bigger than the time necessary for the NN"
   ]
  },
  {
   "cell_type": "code",
   "execution_count": null,
   "metadata": {},
   "outputs": [],
   "source": []
  }
 ],
 "metadata": {
  "kernelspec": {
   "display_name": "Python 3",
   "language": "python",
   "name": "python3"
  },
  "language_info": {
   "codemirror_mode": {
    "name": "ipython",
    "version": 3
   },
   "file_extension": ".py",
   "mimetype": "text/x-python",
   "name": "python",
   "nbconvert_exporter": "python",
   "pygments_lexer": "ipython3",
   "version": "3.7.3"
  }
 },
 "nbformat": 4,
 "nbformat_minor": 4
}
