{
 "cells": [
  {
   "cell_type": "markdown",
   "metadata": {},
   "source": [
    "# Linear and Polynomial Regression  \n",
    "\n",
    "## IMPORTANT: make sure to rerun all the code from the beginning to obtain the results for the final version of your notebook, since this is the way we will do it before evaluting your notebook!!! Do not change data files or their names\n",
    "\n"
   ]
  },
  {
   "cell_type": "markdown",
   "metadata": {},
   "source": [
    "Student name: Alessandro Valente\n",
    "ID Number: 1234429"
   ]
  },
  {
   "cell_type": "markdown",
   "metadata": {},
   "source": [
    "## 1) Linear Regression on the Boston House Price dataset\n",
    "\n",
    "\n",
    "\n",
    "## Dataset description\n",
    "\n",
    "The Boston House Price Dataset involves the prediction of a house price in thousands of dollars given details about the house and its neighborhood.\n",
    "\n",
    "The dataset contains a total of 500 observations, which relate 13 input features to an output variable (house price). <br>\n",
    "The variable names are as follows:\n",
    "1. CRIM: per capita crime rate by town. <br>\n",
    "2. ZN: proportion of residential land zoned for lots over 25,000 sq.ft. <br>\n",
    "3. INDUS: proportion of nonretail business acres per town. <br>\n",
    "4. CHAS: Charles River dummy variable (= 1 if tract bounds river; 0 otherwise). <br>\n",
    "5. NOX: nitric oxides concentration (parts per 10 million). <br>\n",
    "6. RM: average number of rooms per dwelling. <br>\n",
    "7. AGE: proportion of owner-occupied units built prior to 1940. <br>\n",
    "8. DIS: weighted distances to five Boston employment centers. <br>\n",
    "9. RAD: index of accessibility to radial highways. <br>\n",
    "10. TAX: full-value property-tax rate per $\\$$10,000. <br>\n",
    "11. PTRATIO: pupil-teacher ratio by town. <br>\n",
    "12. B: 1000*(Bk – 0.63)\\$^2\\$ where Bk is the proportion of blacks by town. <br>\n",
    "13. LSTAT: \\% lower status of the population. <br>\n",
    "14. MEDV: Median value of owner-occupied homes in $\\$$1000s. <br>"
   ]
  },
  {
   "cell_type": "code",
   "execution_count": 1,
   "metadata": {},
   "outputs": [],
   "source": [
    "#needed if you get the IPython/javascript error on the in-line plots\n",
    "%matplotlib inline \n",
    "\n",
    "import matplotlib.pyplot as plt\n",
    "import numpy as np\n",
    "import scipy as sp\n",
    "from scipy import stats"
   ]
  },
  {
   "cell_type": "markdown",
   "metadata": {},
   "source": [
    "## Import Data\n",
    "Load the data from a .csv file\n",
    "\n",
    "**TO DO:** insert a seed number (e.g., your ID number (matricola))\n"
   ]
  },
  {
   "cell_type": "code",
   "execution_count": 2,
   "metadata": {},
   "outputs": [],
   "source": [
    "# Load the data\n",
    "IDnumber = 1234428#PLACE A RANDOM SEED (your ID, but try also to change and see what happens)\n",
    "np.random.seed(IDnumber)\n",
    "\n",
    "filename = \"data/house.csv\"\n",
    "\n",
    "Data = np.genfromtxt(filename, delimiter=';',skip_header=1)\n"
   ]
  },
  {
   "cell_type": "markdown",
   "metadata": {},
   "source": [
    "# A quick overview of data\n",
    "\n",
    "To inspect the data you can use the method describe()"
   ]
  },
  {
   "cell_type": "code",
   "execution_count": 3,
   "metadata": {},
   "outputs": [
    {
     "name": "stdout",
     "output_type": "stream",
     "text": [
      "DescribeResult(nobs=500, minmax=(array([6.3200e-03, 0.0000e+00, 4.6000e-01, 0.0000e+00, 3.8500e-01,\n",
      "       3.5610e+00, 2.9000e+00, 1.1296e+00, 1.0000e+00, 1.8700e+02,\n",
      "       1.2600e+01, 3.2000e-01, 1.7300e+00, 5.0000e+01]), array([ 88.9762, 100.    ,  27.74  ,   1.    ,   0.871 ,   8.78  ,\n",
      "       100.    ,  12.1265,  24.    , 711.    ,  22.    , 396.9   ,\n",
      "        37.97  , 500.    ])), mean=array([3.65578576e+00, 1.15000000e+01, 1.11317400e+01, 7.00000000e-02,\n",
      "       5.54451400e-01, 6.28297000e+00, 6.84246000e+01, 3.81193180e+00,\n",
      "       9.64200000e+00, 4.09624000e+02, 1.84286000e+01, 3.56208040e+02,\n",
      "       1.26987400e+01, 2.25680000e+02]), variance=array([7.47252195e+01, 5.48905812e+02, 4.76198228e+01, 6.52304609e-02,\n",
      "       1.35838329e-02, 4.97618330e-01, 7.99314163e+02, 4.46304043e+00,\n",
      "       7.59617595e+01, 2.85605197e+04, 4.67663531e+00, 8.41657137e+03,\n",
      "       5.13361942e+01, 8.52982926e+03]), skewness=array([ 5.17851447,  2.19924065,  0.29469001,  3.37060575,  0.72944382,\n",
      "        0.40691344, -0.58266003,  0.99061328,  0.9886802 ,  0.65098333,\n",
      "       -0.79127942, -2.85972639,  0.89051925,  1.09625625]), kurtosis=array([36.3384518 ,  3.88460431, -1.25254394,  9.3609831 , -0.10223624,\n",
      "        1.84311394, -0.99523636,  0.43299159, -0.90519243, -1.16696682,\n",
      "       -0.30903922,  7.00864873,  0.44527324,  1.4266838 ]))\n",
      "Shape of data array: (500, 14)\n"
     ]
    }
   ],
   "source": [
    "dataDescription = stats.describe(Data)\n",
    "print(dataDescription)\n",
    "\n",
    "print (\"Shape of data array: \" + str(Data.shape))\n",
    "\n",
    "#for more interesting visualization: use Panda!"
   ]
  },
  {
   "cell_type": "markdown",
   "metadata": {},
   "source": [
    "# Split data in training, validation and test sets\n",
    "\n",
    "\n",
    "\n",
    "Given $m$ total data, denote with $m_{tv}$ the part used for training and validation. Keep $m_t$ data as training data, $m_{val}:=m_{tv}-m_t$ as validation data and $m_{test}:=m - m_{val} - m_t = m-m_{tv}$. For instance one can take $m_t=m/2$ of the data as training, $m_{val}=m/4$  validation and $m_{test}=m/4$ as testing. Let us define: \n",
    "\n",
    "$\\bullet$ $S_{t}$ the training data set\n",
    "\n",
    "$\\bullet$ $S_{val}$ the validation data set\n",
    "\n",
    "$\\bullet$ $S_{test}$ the testing data set\n",
    "\n",
    "\n",
    "The reason for this splitting is as follows:\n",
    "\n",
    "TRAINING DATA: The training data are used to compute the empirical loss\n",
    "$$\n",
    "L_S(h) = \\frac{1}{m_t} \\sum_{z_i \\in S_{t}} \\ell(h,z_i)\n",
    "$$\n",
    "which is used to estimate $h$ in a given model class ${\\cal H}$.\n",
    "i.e. \n",
    "$$\n",
    "\\hat{h} = {\\rm arg\\; min}_{h \\in {\\cal H}} \\, L_S(h)\n",
    "$$\n",
    "\n",
    "VALIDATION DATA: When different model classes are present (e.g. of different complexity such as linear regression which uses a different number $d_j$ of regressors $x_1$,...$x_{d_j}$), one has to choose which one is the \"best\" complexity. \n",
    "Let ${\\cal H}_{d_j}$ be the space of models as a function of the complexity $d_j$ and let \n",
    "$$\n",
    "\\hat h_{d_j} = {\\rm arg\\; min}_{h \\in {\\cal H}_{d_j}} \\, L_S(h)\n",
    "$$\n",
    "\n",
    "One can estimate the generalization error for model $\\hat h_{d_j}$ as follows:\n",
    "$$\n",
    "L_{{\\cal D}}(\\hat h_{d_j}) \\simeq \\frac{1}{m_{val}} \\sum_{ z_i \\in S_{val}} \\ell(\\hat h_{d_j},z_i)\n",
    "$$\n",
    "and then choose the complexity which achieves the best estimate of the generalization error\n",
    "$$\n",
    "\\hat d_j: = {\\rm arg\\; min}_{d_j} \\,\\frac{1}{m_{val}} \\sum_{ z_i \\in S_{val}} \\ell(\\hat h_{d_j},z_i)\n",
    "$$\n",
    "\n",
    "TESTING DATA: Last, the test data set can be used to estimate the performance of the final estimated model\n",
    "$\\hat h_{\\hat d_j}$ using:\n",
    "$$\n",
    "L_{{\\cal D}}(\\hat h_{\\hat d_j}) \\simeq \\frac{1}{m_{test}} \\sum_{ z_i \\in S_{test}} \\ell(\\hat h_{\\hat d_j},z_i)\n",
    "$$\n",
    "\n",
    "\n",
    "**TO DO**: split the data in training, validation and test sets (50%-25%-25%)"
   ]
  },
  {
   "cell_type": "code",
   "execution_count": 4,
   "metadata": {},
   "outputs": [
    {
     "name": "stdout",
     "output_type": "stream",
     "text": [
      "Total number of samples:  500\n",
      "Size of each chunk of data:  125.0\n",
      "[[1.1027e-01 2.5000e+01 5.1300e+00 0.0000e+00 4.5300e-01 6.4560e+00\n",
      "  6.7800e+01 7.2255e+00 8.0000e+00 2.8400e+02 1.9700e+01 3.9690e+02\n",
      "  6.7300e+00 2.2200e+02]]\n",
      "[[1.1027e-01 2.5000e+01 5.1300e+00 0.0000e+00 4.5300e-01 6.4560e+00\n",
      "  6.7800e+01 7.2255e+00 8.0000e+00 2.8400e+02 1.9700e+01 3.9690e+02\n",
      "  6.7300e+00]]\n",
      "[[222.]]\n",
      "Training input data size:  (250, 13)\n",
      "Training output data size:  (250, 1)\n",
      "Validation input data size:  (125, 13)\n",
      "Validation output data size:  (125, 1)\n",
      "Test input data size:  (125, 13)\n",
      "Test output data size:  (125, 1)\n"
     ]
    }
   ],
   "source": [
    "#get number of total samples\n",
    "num_total_samples = Data.shape[0]\n",
    "\n",
    "print (\"Total number of samples: \", num_total_samples)\n",
    "\n",
    "#size of each chunk of data (1/4 each): 2 of them for training, 1 for validation, 1 for testing\n",
    "size_chunk = num_total_samples/4 \n",
    "\n",
    "print (\"Size of each chunk of data: \", size_chunk)\n",
    "\n",
    "#shuffle the data\n",
    "np.random.shuffle(Data)\n",
    "\n",
    "\n",
    "#training data \n",
    "\n",
    "X_training = np.split(Data, 2)[0][:,0:13]\n",
    "Y_training = np.split(Data, 2)[0][:,13:14]\n",
    "\n",
    "print(Data[1:2, :])\n",
    "print(X_training[1:2, :])\n",
    "print(Y_training[1:2, :])\n",
    "print (\"Training input data size: \", X_training.shape)\n",
    "print (\"Training output data size: \", Y_training.shape)\n",
    "\n",
    "#validation data, to be used to choose among different models\n",
    "X_validation = np.split(Data, 4)[2][:,0:13]\n",
    "Y_validation = np.split(Data, 4)[2][:,13:14]\n",
    "print (\"Validation input data size: \", X_validation.shape)\n",
    "print (\"Validation output data size: \", Y_validation.shape)\n",
    "\n",
    "#test data, to be used to estimate the true loss of the final model(s)\n",
    "X_test = np.split(Data, 4)[3][:,0:13]\n",
    "Y_test = np.split(Data, 4)[3][:,13:14]\n",
    "print (\"Test input data size: \", X_test.shape)\n",
    "print (\"Test output data size: \", Y_test.shape)"
   ]
  },
  {
   "cell_type": "markdown",
   "metadata": {},
   "source": [
    "# Data Normalization\n",
    "\n",
    "It is common practice in Statistics and Machine Learning to scale the data (= each variable) so that it is centered (zero mean) and has standard deviation equal to $1$. This helps in terms of numerical conditioning of the (inverse) problems of estimating the model (the coefficients of the linear regression in this case), as well as to give the same scale to all the coefficients. "
   ]
  },
  {
   "cell_type": "code",
   "execution_count": 5,
   "metadata": {},
   "outputs": [
    {
     "name": "stdout",
     "output_type": "stream",
     "text": [
      "Mean of the training input data: [-3.66817687e-16  1.08357767e-16  3.73034936e-16  4.26325641e-17\n",
      "  4.97424324e-15  7.77999887e-15 -5.79092330e-16  6.56363852e-16\n",
      " -5.99520433e-17  1.15740750e-17  1.67528214e-14  6.24167384e-15\n",
      " -1.30651046e-15]\n",
      "Std of the training input data: [1. 1. 1. 1. 1. 1. 1. 1. 1. 1. 1. 1. 1.]\n",
      "Mean of the validation input data: [-0.06110281  0.07375861  0.02012471  0.19817407  0.09337108  0.06594852\n",
      "  0.00834329 -0.05710738  0.03622412  0.04016298 -0.02504699  0.02674243\n",
      " -0.06300146]\n",
      "Std of the validation input data: [0.81237733 1.1790915  1.01853886 1.32682606 0.98325564 1.10498946\n",
      " 1.04641355 1.06587691 1.00559886 1.02242134 1.01883128 0.9619215\n",
      " 0.95078514]\n",
      "Mean of the test input data: [ 0.03066405  0.14742491  0.06713101  0.12611077  0.07801372 -0.07309294\n",
      "  0.02162265 -0.00698105  0.0910247   0.12258647  0.03364521 -0.17150553\n",
      " -0.01404014]\n",
      "Std of the test input data: [0.98070556 1.12388415 1.00234247 1.22189269 1.06924267 1.00655721\n",
      " 1.06436936 1.18451436 1.03482106 0.99653644 1.01828891 1.18957881\n",
      " 0.93213382]\n"
     ]
    }
   ],
   "source": [
    "#scale the data\n",
    "\n",
    "# standardize the input matrix\n",
    "from sklearn import preprocessing\n",
    "# the transformation is computed on training data and then used on all the 3 sets\n",
    "scaler = preprocessing.StandardScaler().fit(X_training) \n",
    "\n",
    "X_training = scaler.transform(X_training)\n",
    "print (\"Mean of the training input data:\", X_training.mean(axis=0))\n",
    "print (\"Std of the training input data:\",X_training.std(axis=0))\n",
    "\n",
    "X_validation = scaler.transform(X_validation) # use the same transformation on validation data\n",
    "print (\"Mean of the validation input data:\", X_validation.mean(axis=0))\n",
    "print (\"Std of the validation input data:\", X_validation.std(axis=0))\n",
    "\n",
    "X_test = scaler.transform(X_test) # use the same transformation on test data\n",
    "print (\"Mean of the test input data:\", X_test.mean(axis=0))\n",
    "print (\"Std of the test input data:\", X_test.std(axis=0))\n"
   ]
  },
  {
   "cell_type": "markdown",
   "metadata": {},
   "source": [
    "# Model Training \n",
    "\n",
    "The model is trained (= estimated) minimizing the empirical error\n",
    "$$\n",
    "L_S(h) := \\frac{1}{m_t} \\sum_{z_i \\in S_{t}} \\ell(h,z_i)\n",
    "$$\n",
    "When the loss function is the quadratic loss\n",
    "$$\n",
    "\\ell(h,z) := (y - h(x))^2\n",
    "$$\n",
    "we define  the Residual Sum of Squares (RSS) as\n",
    "$$\n",
    "RSS(h):= \\sum_{z_i \\in S_{t}} \\ell(h,z_i) = \\sum_{z_i \\in S_{t}} (y_i - h(x_i))^2\n",
    "$$ so that the training error becomes\n",
    "$$\n",
    "L_S(h) = \\frac{RSS(h)}{m_t}\n",
    "$$\n",
    "\n",
    "We recal that, for linear models we have $h(x) = <w,x>$ and the Empirical error $L_S(h)$ can be written\n",
    "in terms of the vector of parameters $w$ in the form\n",
    "$$\n",
    "L_S(w) = \\frac{1}{m_t} \\|Y - X w\\|^2\n",
    "$$\n",
    "where $Y$ and $X$ are the matrices whose $i-$th row are, respectively, the output data $y_i$ and the input vectors $x_i^\\top$.\n",
    "\n",
    "\n",
    " **TO DO:** compute the linear regression coefficients implementing the least square algorithm as done in the introductory lab **and** using np.linalg.lstsq from scikitlear "
   ]
  },
  {
   "cell_type": "code",
   "execution_count": 6,
   "metadata": {},
   "outputs": [
    {
     "name": "stdout",
     "output_type": "stream",
     "text": [
      "[[-0.39851843  0.67841305 -0.85368119 -0.23420572 -0.84119019  0.25111886\n",
      "  -0.01524506  1.70741415 -0.15882881 -0.70789335  0.59626793  0.42763175\n",
      "  -0.82941066]]\n",
      "[[ 1.         -0.39851843  0.67841305 -0.85368119 -0.23420572 -0.84119019\n",
      "   0.25111886 -0.01524506  1.70741415 -0.15882881 -0.70789335  0.59626793\n",
      "   0.42763175 -0.82941066]]\n"
     ]
    }
   ],
   "source": [
    "#compute linear regression coefficients for training data\n",
    "\n",
    "#add a 1 at the beginning of each sample for training, validation, and testing (use homogeneous coordinates)\n",
    "\n",
    "# ADD YOUR CODE\n",
    "\n",
    "print(X_training[1:2, :])\n",
    "X_training=np.c_[np.ones(int(size_chunk*2)),X_training]\n",
    "print(X_training[1:2, :])\n",
    "\n",
    "X_validation=np.c_[np.ones(int(size_chunk)),X_validation]\n",
    "X_test=np.c_[np.ones(int(size_chunk)),X_test]\n"
   ]
  },
  {
   "cell_type": "code",
   "execution_count": 7,
   "metadata": {},
   "outputs": [
    {
     "name": "stdout",
     "output_type": "stream",
     "text": [
      "LS coefficients by hand: [[224.616     ]\n",
      " [ -8.41293851]\n",
      " [  3.42558884]\n",
      " [ -0.75500659]\n",
      " [  8.32122553]\n",
      " [-19.12389133]\n",
      " [ 40.6988505 ]\n",
      " [ -8.17088455]\n",
      " [-30.74966399]\n",
      " [ 16.50231282]\n",
      " [-18.43895046]\n",
      " [-17.98650666]\n",
      " [  6.02897429]\n",
      " [-22.85337374]]\n",
      "LS coefficients with numpy lstsq: [[224.616     ]\n",
      " [ -8.41293851]\n",
      " [  3.42558884]\n",
      " [ -0.75500659]\n",
      " [  8.32122553]\n",
      " [-19.12389133]\n",
      " [ 40.6988505 ]\n",
      " [ -8.17088455]\n",
      " [-30.74966399]\n",
      " [ 16.50231282]\n",
      " [-18.43895046]\n",
      " [-17.98650666]\n",
      " [  6.02897429]\n",
      " [-22.85337374]]\n"
     ]
    }
   ],
   "source": [
    "# Compute the least-squares solution using the same approach of LAB0\n",
    "\n",
    "n = len(X_training[:,1]);\n",
    "#print(n)\n",
    "\n",
    "\n",
    "A = np.zeros((14,14))\n",
    "b = np.zeros((14,1))\n",
    "for i in range(0,n):\n",
    "  e = X_training[i,:].reshape(14,1)  #reshape to \"matrix\" \n",
    "  A = A + np.matmul(e,np.transpose(e))\n",
    "  b = b + Y_training[i]*e\n",
    "\n",
    "#print(A)\n",
    "w_hand = np.matmul(np.linalg.inv(A),b); # solve least squares\n",
    "\n",
    "\n",
    "# Compute the least-squares coefficients using linalg.lstsq\n",
    "w_np, RSStr_np, rank_Xtr, sv_Xtr = np.linalg.lstsq (X_training[:,0:14],Y_training[:],rcond=None) #avoids warning message\n",
    "\n",
    "print(\"LS coefficients by hand:\", w_hand)\n",
    "print(\"LS coefficients with numpy lstsq:\", w_np)\n"
   ]
  },
  {
   "cell_type": "code",
   "execution_count": 8,
   "metadata": {},
   "outputs": [
    {
     "name": "stdout",
     "output_type": "stream",
     "text": [
      "RSS by hand: [371967.47204898]\n",
      "RSS with numpy lstsq:  [371967.47204898]\n",
      "Empirical risk by hand: [1487.8698882]\n",
      "Empirical risk with numpy lstsq: [1487.8698882]\n"
     ]
    }
   ],
   "source": [
    "# compute Residual sums of squares by hand\n",
    "\n",
    "RSStr_hand = 0\n",
    "m_training=n\n",
    "\n",
    "for i in range(0,n):\n",
    "    RSStr_hand += (Y_training[i]-np.matmul(X_training[i,:],w_hand))**2\n",
    "\n",
    "print(\"RSS by hand:\",  RSStr_hand)\n",
    "print(\"RSS with numpy lstsq: \", RSStr_np)\n",
    "\n",
    "print(\"Empirical risk by hand:\", RSStr_hand/m_training)\n",
    "print(\"Empirical risk with numpy lstsq:\", RSStr_np/m_training)"
   ]
  },
  {
   "cell_type": "markdown",
   "metadata": {},
   "source": [
    "## Data prediction \n",
    "\n",
    "Compute the output predictions on both training and validation set and compute the Residual Sum of Sqaures (RSS) defined above, the Emprical Loss and the quantity $1-R^2$ where\n",
    "$$\n",
    "R^2 = \\frac{\\sum_{z_i \\in S_t} (\\hat y_i - \\bar y)^2}{\\sum_{z_i \\in S_t} (y_i - \\bar y)^2} \\quad \\quad \\bar y = \\frac{1}{m_t} \\sum_{z_i \\in S_t} y_i\n",
    "$$\n",
    "is the so-called \"Coefficient of determination\" (COD)\n",
    "\n",
    "**TO DO**: Compute these quantities on  training, validation and test sets.\n"
   ]
  },
  {
   "cell_type": "code",
   "execution_count": 9,
   "metadata": {},
   "outputs": [],
   "source": [
    "def R2 (Y, Yp):\n",
    "    m=len(Y)\n",
    "    Ybar=np.sum(Y)/m\n",
    "    #print(Y, Yp)\n",
    "    #print (np.sum(Yp),np.sum(Y))\n",
    "    Rsq1=Rsq2=0.0\n",
    "    for i in range(0,m):\n",
    "        Rsq1+=((Yp[i]-Ybar)**2)\n",
    "        Rsq2+=((Y[i]-Ybar)**2)\n",
    "    return Rsq1/Rsq2\n",
    "\n",
    "#Y=np.random.rand(10,1)\n",
    "#Yp=np.ones(10)\n",
    "#Yp/=2\n",
    "#print(R2(Y, Yp))    "
   ]
  },
  {
   "cell_type": "code",
   "execution_count": 25,
   "metadata": {},
   "outputs": [
    {
     "name": "stdout",
     "output_type": "stream",
     "text": [
      "RSS on validation data: [472550.49286003]\n",
      "Loss estimated from validation data: [3780.40394288]\n",
      "RSS on test data: [340647.03035574]\n",
      "Loss estimated from test data: [2725.17624285]\n",
      "Measure on Training Data (1-R^2): [0.18478713]\n",
      "Measure on Validation Data(1-R^2): [0.35701766]\n",
      "Measure on Test Data(1-R^2): [0.11366029]\n"
     ]
    }
   ],
   "source": [
    "#compute predictions on training and validation\n",
    "\n",
    "#prediction_training \n",
    "prediction_training = np.dot(X_training, w_np) #uso il w stimato con np (sono comunque uguali)\n",
    "prediction_validation = np.dot(X_validation, w_np)\n",
    "prediction_test = np.dot(X_test, w_np)# COMPLETE\n",
    "\n",
    "#what about the loss for points in the validation and test data?\n",
    "m_validation = m_test = int(size_chunk)\n",
    "RSS_validation=0.0\n",
    "RSS_test=0.0\n",
    "for i in range(0,m_validation):\n",
    "    RSS_validation += (Y_validation[i]-np.matmul(X_validation[i,:],w_hand))**2\n",
    "    RSS_test       += (Y_test[i]      -np.matmul(X_test[i,:]      ,w_hand))**2\n",
    "    \n",
    "print(\"RSS on validation data:\",  RSS_validation)\n",
    "print(\"Loss estimated from validation data:\", RSS_validation/m_validation)\n",
    "    \n",
    "print(\"RSS on test data:\",  RSS_test)\n",
    "print(\"Loss estimated from test data:\", RSS_test/m_test)\n",
    "\n",
    "#another measure of how good our linear fit is given by the following (that is 1 - R^2)\n",
    "\n",
    "\n",
    "measure_training = 1-R2(Y_training, prediction_training)\n",
    "measure_validation = 1-R2(Y_validation, prediction_validation)\n",
    "measure_test = 1-R2(Y_test, prediction_test)\n",
    "\n",
    "print(\"Measure on Training Data (1-R^2):\", measure_training)\n",
    "print(\"Measure on Validation Data(1-R^2):\", measure_validation)\n",
    "print(\"Measure on Test Data(1-R^2):\", measure_test)"
   ]
  },
  {
   "cell_type": "markdown",
   "metadata": {},
   "source": [
    "**QUESTION 1**: Comment on the results you get and on the difference between the train, validation and test errors.\n",
    "\n",
    "The COD of the Test and Training set present similar values while the validation set values is smaller.\n",
    "Since a value of $R^2$ equal to 1 represent a perfect fit of the model to the data the value of (1-$R^2$) obtained can be considered good in particular observing that the number of data fitted is not very big while we have many parameters in the model.\n",
    "The error on the validation set shows that the model paramenters estimation can probably be improved especially in case of bigger data set but the model is still valid."
   ]
  },
  {
   "cell_type": "markdown",
   "metadata": {},
   "source": [
    "## ... and plot:\n",
    "\n",
    "\n",
    "### (1) output predictions on training  data"
   ]
  },
  {
   "cell_type": "code",
   "execution_count": 11,
   "metadata": {},
   "outputs": [
    {
     "data": {
      "image/png": "[encoded data removed]",
      "text/plain": [
       "<Figure size 432x288 with 1 Axes>"
      ]
     },
     "metadata": {
      "needs_background": "light"
     },
     "output_type": "display_data"
    }
   ],
   "source": [
    "# Plot predictions on Training data \n",
    "plt.figure()\n",
    "\n",
    "#the following is just for nice plotting, not required: it sorts the predictions by value so that they fall on\n",
    "# a line and it's easier to spot the differences\n",
    "\n",
    "# NOTICE: This code is suitable for the \"standard\" solution, check that the variable names \n",
    "# and structure are compatible with your implementation\n",
    "\n",
    "sorting_permutation = sorted(range(len(prediction_training[0:m_training])), key=lambda k: prediction_training[0:m_training][k])\n",
    "plt.plot(Y_training[sorting_permutation], 'ko', alpha=0.5)\n",
    "plt.plot(prediction_training[sorting_permutation], 'rx')\n",
    "\n",
    "plt.xlabel('Input (index of instance)')\n",
    "plt.ylabel('Predicted Output')\n",
    "plt.title('Predictions on Training Data')\n",
    "plt.show()"
   ]
  },
  {
   "cell_type": "markdown",
   "metadata": {},
   "source": [
    "### (2) output predictions on validation  data"
   ]
  },
  {
   "cell_type": "code",
   "execution_count": 12,
   "metadata": {},
   "outputs": [
    {
     "data": {
      "image/png": "[encoded data removed]",
      "text/plain": [
       "<Figure size 432x288 with 1 Axes>"
      ]
     },
     "metadata": {
      "needs_background": "light"
     },
     "output_type": "display_data"
    }
   ],
   "source": [
    "# Plot predictions on validation data \n",
    "plt.figure()\n",
    "\n",
    "#the following is just for nice plotting, not required: it sorts the predictions by value so that they fall on\n",
    "# a line and it's easier to spot the differences\n",
    "\n",
    "# NOTICE: This code is suitable for the \"standard\" solution, check that the variable names \n",
    "# and structure are compatible with your implementation\n",
    "\n",
    "sorting_permutation = sorted(range(len(prediction_validation[0:m_validation])), key=lambda k: prediction_validation[0:m_validation][k])\n",
    "plt.plot(Y_validation[sorting_permutation], 'ko', alpha=0.5)\n",
    "plt.plot(prediction_validation[sorting_permutation], 'gx')\n",
    "\n",
    "\n",
    "plt.xlabel('Input (index of instance)')\n",
    "plt.ylabel('Predicted Output')\n",
    "plt.title('Predictions on Validation Data')\n",
    "plt.show()"
   ]
  },
  {
   "cell_type": "markdown",
   "metadata": {},
   "source": [
    "## Ordinary Least-Squares using scikit-learn\n",
    "\n",
    "A fast way to compute the LS estimate is through sklearn.linear_model"
   ]
  },
  {
   "cell_type": "code",
   "execution_count": 13,
   "metadata": {},
   "outputs": [
    {
     "name": "stdout",
     "output_type": "stream",
     "text": [
      "Intercept: [224.616]\n",
      "Least-Squares Coefficients: [[  0.          -8.41293851   3.42558884  -0.75500659   8.32122553\n",
      "  -19.12389133  40.6988505   -8.17088455 -30.74966399  16.50231282\n",
      "  -18.43895046 -17.98650666   6.02897429 -22.85337374]]\n",
      "Measure on training data: 0.18478713437035132\n",
      "Measure on validation data: 0.3646970207432704\n",
      "Measure on test data: 0.3651701140867035\n"
     ]
    }
   ],
   "source": [
    "from sklearn import linear_model\n",
    "LinReg = linear_model.LinearRegression()  # build the object LinearRegression\n",
    "LinReg.fit(X_training, Y_training)  # estimate the LS coefficients\n",
    "print(\"Intercept:\", LinReg.intercept_)\n",
    "print(\"Least-Squares Coefficients:\", LinReg.coef_)\n",
    "prediction_training = LinReg.predict(X_training)  # predict output values on training set\n",
    "prediction_validation=LinReg.predict(X_validation)\n",
    "prediction_test = LinReg.predict(X_test)  # predict output values on test set\n",
    "print(\"Measure on training data:\", 1-LinReg.score(X_training, Y_training))\n",
    "print(\"Measure on validation data:\", 1-LinReg.score(X_validation, Y_validation))\n",
    "print(\"Measure on test data:\", 1-LinReg.score(X_test, Y_test))\n"
   ]
  },
  {
   "cell_type": "markdown",
   "metadata": {},
   "source": [
    "# 2) Polynomial Regression\n",
    "\n",
    "In this exercise you need to use polynomial regression to estimate the height reached by a ball thrown into air. The motion of the ball is controlled by the motion equation with uniform acceleration (in our case given by the gravity) that is a quadratic model. You need to estimate the initial height of the ball (h), the initial speed at which it was launched (v) and the gravity acceleration (g). The equation of the motion is : $y = h + vt + \\frac{1}{2} gt^2$ .\n",
    "In the motion.csv file you can find the measured height values (subject to noise) and the corresponding time instants."
   ]
  },
  {
   "cell_type": "code",
   "execution_count": 14,
   "metadata": {},
   "outputs": [],
   "source": [
    "#import the required packages\n",
    "import matplotlib.pyplot as plt\n",
    "import csv\n",
    "from scipy import stats\n",
    "import numpy as np\n",
    "import sklearn as sl\n",
    "from sklearn import linear_model"
   ]
  },
  {
   "cell_type": "code",
   "execution_count": 15,
   "metadata": {},
   "outputs": [
    {
     "name": "stdout",
     "output_type": "stream",
     "text": [
      "['time', 'height']\n",
      "(500, 1)\n",
      "(500, 1)\n"
     ]
    }
   ],
   "source": [
    "# load the data (time and height values) from the motion.csv file\n",
    "with open('data/motion.csv', 'r') as f:\n",
    "    motion = csv.reader(f, delimiter=';')\n",
    "    \n",
    "    header = next(motion) #skip first line\n",
    "    print(header)\n",
    "    \n",
    "    # get all the rows as a list\n",
    "    data = list(motion)\n",
    "    # transform data into numpy array\n",
    "    data = np.array(data).astype(float)\n",
    "\n",
    "x = data[:,0].reshape(-1,1)\n",
    "y = data[:,1].reshape(-1,1)\n",
    "    \n",
    "print(x.shape)\n",
    "print(y.shape)"
   ]
  },
  {
   "cell_type": "code",
   "execution_count": 16,
   "metadata": {},
   "outputs": [
    {
     "name": "stdout",
     "output_type": "stream",
     "text": [
      "slope (linregress):  0.5227301908080866   intercept (lnregress): 21.304553347021823\n",
      "correlation coefficient: 0.08206857514729198\n"
     ]
    }
   ],
   "source": [
    "# try to perform a linear regression (it does not work properly, the model is quadratic !)\n",
    "\n",
    "slope, intercept, r_value, p_value, std_err = stats.linregress(x.reshape(500),y.reshape(500))\n",
    "\n",
    "print('slope (linregress): ', slope,'  intercept (lnregress):', intercept);\n",
    "print('correlation coefficient:', r_value)"
   ]
  },
  {
   "cell_type": "code",
   "execution_count": 17,
   "metadata": {},
   "outputs": [
    {
     "name": "stdout",
     "output_type": "stream",
     "text": [
      "Intercept: [0.96901643]\n",
      "Least-Squares Coefficients: [[ 0.         25.02337708 -4.90994928]]\n",
      "Measure on training data: 0.0029016942637539733\n",
      "initial position:  0.9690164318337757   initial speed: 25.02337707657677  gravity acceleration: -9.819898551410288\n",
      "correlation coefficient: 0.9985480988596623\n"
     ]
    }
   ],
   "source": [
    "# use polynomial regression (the feature vectors have three components:\n",
    "# they contain all 1s (for bias), the input data $x$ and their squared values $x^2$\n",
    "\n",
    "dataX = np.zeros([500,3])  \n",
    "dataX[:,0] = np.ones([500])  # dataX[:,0]: bias \n",
    "dataX[:,1] = x[:,0]   # dataX[:,1]: 1st order terms\n",
    "dataX[:,2] =x[:,0]*x[:,0]   # dataX[:,2]: 2nd order terms\n",
    "\n",
    "reg =  linear_model.LinearRegression()  # build the object LinearRegression\n",
    "reg.fit(dataX, y)  # estimate the LS coefficients\n",
    "print(\"Intercept:\", reg.intercept_)\n",
    "print(\"Least-Squares Coefficients:\", reg.coef_)\n",
    "prediction = reg.predict(dataX)  # predict output values on training set\n",
    "\n",
    "print(\"Measure on training data:\", 1-reg.score(dataX, y))\n",
    "\n",
    "h = reg.intercept_ [0]\n",
    "v = reg.coef_ [0,1]\n",
    "g = reg.coef_ [0,2] *2\n",
    "sc = reg.score(dataX, y) #COMPUTE # reg.score contains the square of the correlation coefficient\n",
    "\n",
    "\n",
    "print('initial position: ', h,'  initial speed:', v, ' gravity acceleration:', g )\n",
    "print('correlation coefficient:', np.sqrt(sc))"
   ]
  },
  {
   "cell_type": "markdown",
   "metadata": {},
   "source": [
    "**Question 2** Explain what do you conclude looking at the linear and polynomial fitting ?  \n",
    "\n",
    "The difference between the linear and polynomial fit is very clear, in the first case (linear fit) the value of the correlation coefficient is close to 0 meaning that the model does not describe the data set while on the opposite the value next to 1 of the correlation coefficient in the polynomial fit is a good indication of the goodness of the model used to describe the data set. therefore we can say that the second degree polynomial is the best model to describe the data set, as expected."
   ]
  },
  {
   "cell_type": "code",
   "execution_count": 33,
   "metadata": {},
   "outputs": [
    {
     "data": {
      "image/png": "[encoded data removed]",
      "text/plain": [
       "<Figure size 432x288 with 1 Axes>"
      ]
     },
     "metadata": {
      "needs_background": "light"
     },
     "output_type": "display_data"
    }
   ],
   "source": [
    "# plot the input data and the estimated models\n",
    "\n",
    "# Plot predictions on validation data \n",
    "plt.figure()\n",
    "\n",
    "#the following is just for nice plotting, not required: it sorts the predictions by value so that they fall on\n",
    "# a line and it's easier to spot the differences\n",
    "\n",
    "# NOTICE: This code is suitable for the \"standard\" solution, check that the variable names \n",
    "# and structure are compatible with your implementation\n",
    "\n",
    "#sorting_permutation = sorted(range(len(prediction[0:len(y)])), key=lambda k: prediction[0:len(y)][k])\n",
    "plt.plot(x,y, 'ko', alpha=0.5, label=\"data\")\n",
    "plt.plot(x, h+x*v+g*x*x/2, 'r', linewidth=3, label=\"prediction\")\n",
    "plt.plot(x, intercept+slope*x, '--b', linewidth=3, label=\"linear prediction\")\n",
    "\n",
    "\n",
    "plt.xlabel('Time')\n",
    "plt.ylabel('Height')\n",
    "plt.title('Predictions on  Data')\n",
    "plt.legend()\n",
    "plt.show()\n",
    "\n"
   ]
  },
  {
   "cell_type": "code",
   "execution_count": null,
   "metadata": {},
   "outputs": [],
   "source": []
  },
  {
   "cell_type": "code",
   "execution_count": null,
   "metadata": {},
   "outputs": [],
   "source": []
  }
 ],
 "metadata": {
  "anaconda-cloud": {},
  "celltoolbar": "Raw Cell Format",
  "kernelspec": {
   "display_name": "Python 3",
   "language": "python",
   "name": "python3"
  },
  "language_info": {
   "codemirror_mode": {
    "name": "ipython",
    "version": 3
   },
   "file_extension": ".py",
   "mimetype": "text/x-python",
   "name": "python",
   "nbconvert_exporter": "python",
   "pygments_lexer": "ipython3",
   "version": "3.7.3"
  }
 },
 "nbformat": 4,
 "nbformat_minor": 4
}
