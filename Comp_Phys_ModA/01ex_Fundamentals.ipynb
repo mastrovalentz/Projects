{
 "cells": [
  {
   "cell_type": "markdown",
   "metadata": {},
   "source": [
    "1\\. Write the following as a list comprehension"
   ]
  },
  {
   "cell_type": "code",
   "execution_count": 1,
   "metadata": {},
   "outputs": [
    {
     "name": "stdout",
     "output_type": "stream",
     "text": [
      "[(0, 0), (0, 1), (0, 2), (0, 3), (1, 0), (1, 1), (1, 2), (1, 3), (2, 0), (2, 1), (2, 2), (2, 3)]\n",
      "[(0, 0), (0, 1), (0, 2), (0, 3), (1, 0), (1, 1), (1, 2), (1, 3), (2, 0), (2, 1), (2, 2), (2, 3)]\n",
      "[0, 4, 16]\n",
      "[0, 4, 16]\n"
     ]
    }
   ],
   "source": [
    "# 1\n",
    "ans = []\n",
    "for i in range(3):\n",
    "    for j in range(4):\n",
    "        ans.append((i, j))\n",
    "print (ans)\n",
    "\n",
    "ansc=[(x,y) for x in range(3) for y in range(4)]\n",
    "print (ansc)\n",
    "\n",
    "# 2\n",
    "ans = map(lambda x: x*x, filter(lambda x: x%2 == 0, range(5)))\n",
    "print (list(ans))\n",
    "\n",
    "ansc = [x*x for x in range (5) if x%2 == 0]\n",
    "print (ansc)\n",
    "\n"
   ]
  },
  {
   "cell_type": "markdown",
   "metadata": {},
   "source": [
    "2\\. Convert the following function into a pure function with no global variables or side effects"
   ]
  },
  {
   "cell_type": "code",
   "execution_count": 2,
   "metadata": {},
   "outputs": [
    {
     "name": "stdout",
     "output_type": "stream",
     "text": [
      "[0, 1, 2, 3, 4, 5, 6, 7, 8]\n",
      "[1, 2, 3]\n"
     ]
    }
   ],
   "source": [
    "x = 9\n",
    "def f(alist):\n",
    "    for i in range(x):\n",
    "         alist.append(i)\n",
    "    return alist\n",
    "\n",
    "def f2(alist):\n",
    "    alist=[]\n",
    "    for i in range(x):\n",
    "        alist.append(i)\n",
    "    return alist\n",
    "alist = [1,2,3]\n",
    "ans = f2(alist)\n",
    "print (ans)\n",
    "print (alist) # alist has not been changed!"
   ]
  },
  {
   "cell_type": "markdown",
   "metadata": {},
   "source": [
    "3\\. Write a `decorator` hello that makes every wrapped function print “Hello!”, i.e. something like:\n",
    "\n",
    "```python\n",
    "@hello\n",
    "def square(x):\n",
    "    return x*x\n",
    "```\n",
    "\n"
   ]
  },
  {
   "cell_type": "code",
   "execution_count": 3,
   "metadata": {},
   "outputs": [
    {
     "name": "stdout",
     "output_type": "stream",
     "text": [
      "hello!\n",
      "25\n",
      "decoratore carino\n",
      "hello!\n",
      "miao\n",
      "decoratore carino\n"
     ]
    }
   ],
   "source": [
    "def hello_decorator(f):\n",
    "    def wrapper(*args, **kw):\n",
    "        print(\"hello!\")\n",
    "        f(args[0])\n",
    "        print(\"decoratore carino\")\n",
    "    return wrapper\n",
    "def hello_decorator_noarg(f):\n",
    "    def wrapper():\n",
    "        print(\"hello!\")\n",
    "        f()\n",
    "        print(\"decoratore carino\")\n",
    "    return wrapper\n",
    "@hello_decorator   \n",
    "def f1(x):\n",
    "    print (x*x)\n",
    "@hello_decorator_noarg \n",
    "def f2():\n",
    "    print(\"miao\")\n",
    "    \n",
    "f1(5)\n",
    "f2()"
   ]
  },
  {
   "cell_type": "markdown",
   "metadata": {},
   "source": [
    "4\\. Write the factorial function so that it a) does and b) does not use recursion."
   ]
  },
  {
   "cell_type": "code",
   "execution_count": 4,
   "metadata": {},
   "outputs": [
    {
     "name": "stdout",
     "output_type": "stream",
     "text": [
      "120\n",
      "120\n"
     ]
    }
   ],
   "source": [
    "def fact_iter(x):\n",
    "    t=1\n",
    "    for i in range (1,x+1):\n",
    "        t*=i\n",
    "    return t\n",
    "\n",
    "def fact_rec(x):\n",
    "    if (x==0 or x==1):\n",
    "        return x\n",
    "    else:\n",
    "        return x*fact_rec(x-1)\n",
    "\n",
    "x=5\n",
    "print(fact_iter(5))\n",
    "print(fact_rec(5))"
   ]
  },
  {
   "cell_type": "markdown",
   "metadata": {},
   "source": [
    "5\\. Use HOFs (zip in particular) to compute the weight of a circle, a disk and a sphere, assuming different radii and different densities:\n",
    "\n",
    "```python\n",
    "densities = {\"Al\":[0.5,1,2],\"Fe\":[3,4,5],\"Pb\": [15,20,30]}\n",
    "radii = [1,2,3]\n",
    "```\n",
    "\n",
    "where the entries of the dictionary's values are the linear, superficial and volumetric densities of the materials respectively.\n",
    "\n",
    "In particular define a list of three lambda functions using a comprehension that computes the circumference, the area and the volume for a given radius.\n"
   ]
  },
  {
   "cell_type": "code",
   "execution_count": 5,
   "metadata": {},
   "outputs": [
    {
     "name": "stdout",
     "output_type": "stream",
     "text": [
      "Al  masses:\n",
      "Radius:  1\n",
      "Circle :  3.14\n",
      "Disk   :  3.14\n",
      "Sphere :  8.38\n",
      "Radius:  2\n",
      "Circle :  6.28\n",
      "Disk   :  12.57\n",
      "Sphere :  67.02\n",
      "Radius:  3\n",
      "Circle :  9.42\n",
      "Disk   :  28.27\n",
      "Sphere :  226.19\n",
      "Fe  masses:\n",
      "Radius:  1\n",
      "Circle :  18.85\n",
      "Disk   :  12.57\n",
      "Sphere :  20.94\n",
      "Radius:  2\n",
      "Circle :  37.7\n",
      "Disk   :  50.27\n",
      "Sphere :  167.55\n",
      "Radius:  3\n",
      "Circle :  56.55\n",
      "Disk   :  113.1\n",
      "Sphere :  565.49\n",
      "Pb  masses:\n",
      "Radius:  1\n",
      "Circle :  94.25\n",
      "Disk   :  62.83\n",
      "Sphere :  125.66\n",
      "Radius:  2\n",
      "Circle :  188.5\n",
      "Disk   :  251.33\n",
      "Sphere :  1005.31\n",
      "Radius:  3\n",
      "Circle :  282.74\n",
      "Disk   :  565.49\n",
      "Sphere :  3392.92\n"
     ]
    }
   ],
   "source": [
    "import math\n",
    "densities = {\"Al\":[0.5,1,2],\"Fe\":[3,4,5],\"Pb\": [15,20,30]}\n",
    "radii = [1,2,3]\n",
    "\n",
    "def ring(r, d):\n",
    "    l=2.0*math.pi*r\n",
    "    w=l*d\n",
    "    return w\n",
    "\n",
    "def disc(r, d):\n",
    "    l=math.pi*r**2\n",
    "    w=l*d\n",
    "    return w\n",
    "\n",
    "def sphere(r, d):\n",
    "    l=(4.0*math.pi*r**3)/3.0\n",
    "    w=l*d\n",
    "    return w\n",
    "\n",
    "form=[ring, disc, sphere]\n",
    "shape=[\"Circle : \",\"Disk   : \",\"Sphere : \"]\n",
    "    \n",
    "for name,dens in zip(densities.keys(),densities.values()):\n",
    "    print (name, \" masses:\")\n",
    "    for rad in  range(len(radii)):\n",
    "        print (\"Radius: \", rad+1) \n",
    "        for d0,d1,density in  zip(shape,radii,dens):\n",
    "                mass = form[d1-1](rad+1,density)\n",
    "                print (d0, round(mass,2))"
   ]
  },
  {
   "cell_type": "markdown",
   "metadata": {},
   "source": [
    "6\\. Edit the class defintion to add an instance attribute of is_hungry = True to the Dog class. Then add a method called eat() which changes the value of is_hungry to False when called. Figure out the best way to feed each dog and then output “My dogs are hungry.” if all are hungry or “My dogs are not hungry.” if all are not hungry. The final output should look like this:\n",
    "\n",
    "`I have 3 dogs. \n",
    "Tom is 6. \n",
    "Fletcher is 7. \n",
    "Larry is 9. \n",
    "And they're all mammals, of course. \n",
    "My dogs are not hungry.\n",
    "`\n",
    "\n",
    "```python\n",
    "# Parent class\n",
    "class Dog:\n",
    "\n",
    "    # Class attribute\n",
    "    species = 'mammal'\n",
    "\n",
    "    # Initializer / Instance attributes\n",
    "    def __init__(self, name, age):\n",
    "        self.name = name\n",
    "        self.age = age\n",
    "\n",
    "    # instance method\n",
    "    def description(self):\n",
    "        return \"{} is {} years old\".format(self.name, self.age)\n",
    "\n",
    "    # instance method\n",
    "    def speak(self, sound):\n",
    "        return \"{} says {}\".format(self.name, sound)\n",
    "\n",
    "# Child class (inherits from Dog class)\n",
    "class RussellTerrier(Dog):\n",
    "    def run(self, speed):\n",
    "        return \"{} runs {}\".format(self.name, speed)\n",
    "\n",
    "# Child class (inherits from Dog class)\n",
    "class Bulldog(Dog):\n",
    "    def run(self, speed):\n",
    "        return \"{} runs {}\".format(self.name, speed)\n",
    "```"
   ]
  },
  {
   "cell_type": "code",
   "execution_count": 6,
   "metadata": {},
   "outputs": [],
   "source": [
    "class Dog:\n",
    "\n",
    "    # Class attribute\n",
    "    species = 'mammal'\n",
    "\n",
    "    # Initializer / Instance attributes\n",
    "    def __init__(self, name, age):\n",
    "        self.name = name\n",
    "        self.age = age\n",
    "        self.is_hungry=True\n",
    "\n",
    "    # instance method\n",
    "    def description(self):\n",
    "        return \"{} is {} years old\".format(self.name, self.age)\n",
    "\n",
    "    # instance method\n",
    "    def speak(self, sound):\n",
    "        return \"{} says {}\".format(self.name, sound)\n",
    "    def status(self):\n",
    "        if self.is_hungry: \n",
    "            return \"{} is hungry\".format(self.name)\n",
    "        else:\n",
    "            return \"{} is not hungry\".format(self.name)\n",
    "    def eat(self):\n",
    "        self.is_hungry=False\n",
    "\n",
    "# Child class (inherits from Dog class)\n",
    "class RussellTerrier(Dog):\n",
    "    def run(self, speed):\n",
    "        return \"{} runs {}\".format(self.name, speed)\n",
    "\n",
    "# Child class (inherits from Dog class)\n",
    "class Bulldog(Dog):\n",
    "    def run(self, speed):\n",
    "        return \"{} runs {}\".format(self.name, speed)\n",
    "    \n",
    "def hunger (dogs):\n",
    "    t,f =0,0\n",
    "    for d in dogs:\n",
    "        if d.is_hungry==True:\n",
    "            t+=1\n",
    "        else:\n",
    "            f+=1\n",
    "    if f==0:\n",
    "        return \"All my dogs are hungry\"\n",
    "    elif t==0:\n",
    "        return \"All my dogs are not hungry\"\n",
    "    else :\n",
    "        return \"My dogs are in a quantum sovrapposition\"\n",
    "\n",
    "        \n"
   ]
  },
  {
   "cell_type": "code",
   "execution_count": 7,
   "metadata": {},
   "outputs": [
    {
     "name": "stdout",
     "output_type": "stream",
     "text": [
      "All my dogs are hungry\n",
      "doggo1 is 4 years old\n",
      "doggo1 is hungry\n",
      "doggo2 is 3 years old\n",
      "doggo2 is hungry\n",
      "doggo3 is 1 years old\n",
      "doggo3 is hungry\n",
      "doggo4 is 2 years old\n",
      "doggo4 is hungry\n",
      "doggo5 is 4 years old\n",
      "doggo5 is hungry\n",
      "doggo6 is 1 years old\n",
      "doggo6 is hungry\n",
      "doggo7 is 4 years old\n",
      "doggo7 is hungry\n",
      "doggo8 is 2 years old\n",
      "doggo8 is hungry\n",
      "All my dogs are not hungry\n",
      "My dogs are in a quantum sovrapposition\n"
     ]
    }
   ],
   "source": [
    "import random\n",
    "x=random.randrange(4,10)\n",
    "\n",
    "\n",
    "doggos=[Dog(\"doggo{}\".format(y),random.randrange(5)) for y in range (1,x+1)]\n",
    "\n",
    "print (hunger(doggos))\n",
    "for doggo in doggos:\n",
    "    print(doggo.description())\n",
    "    #print(doggo.speak(\"bark\"))\n",
    "    print(doggo.status())\n",
    "    doggo.eat()\n",
    "print (hunger(doggos))\n",
    "doggos[0].is_hungry=True\n",
    "print (hunger(doggos))\n",
    "\n",
    "#for doggo in doggos:\n",
    " #   print(doggo.description())\n",
    "   # print(doggo.speak(\"bark\"))\n",
    "   # print(doggo.status())\n",
    "  #  doggo.eat()"
   ]
  },
  {
   "cell_type": "code",
   "execution_count": null,
   "metadata": {},
   "outputs": [],
   "source": []
  },
  {
   "cell_type": "code",
   "execution_count": null,
   "metadata": {},
   "outputs": [],
   "source": []
  }
 ],
 "metadata": {
  "kernelspec": {
   "display_name": "Python 3",
   "language": "python",
   "name": "python3"
  },
  "language_info": {
   "codemirror_mode": {
    "name": "ipython",
    "version": 3
   },
   "file_extension": ".py",
   "mimetype": "text/x-python",
   "name": "python",
   "nbconvert_exporter": "python",
   "pygments_lexer": "ipython3",
   "version": "3.7.3"
  }
 },
 "nbformat": 4,
 "nbformat_minor": 4
}
