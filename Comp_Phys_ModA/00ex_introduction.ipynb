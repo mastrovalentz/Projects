{
 "cells": [
  {
   "cell_type": "markdown",
   "metadata": {},
   "source": [
    "1. The MickeyMouse problem\n",
    "\n",
    "a) Write a program that prints the numbers from 1 to 100. But for multiples of three print Mickey instead of the number and for the multiples of five print Mouse. For numbers which are multiples of both three and five print MickeyMouse\n",
    "\n",
    "b) Put the result in a tuple and substitute Mickey with Donald and Mouse with Duck"
   ]
  },
  {
   "cell_type": "code",
   "execution_count": 1,
   "metadata": {
    "scrolled": true
   },
   "outputs": [
    {
     "name": "stdout",
     "output_type": "stream",
     "text": [
      "1\n",
      "2\n",
      "Mickey\n",
      "4\n",
      "Mouse\n",
      "Mickey\n",
      "7\n",
      "8\n",
      "Mickey\n",
      "Mouse\n",
      "11\n",
      "Mickey\n",
      "13\n",
      "14\n",
      "MickeyMouse\n",
      "16\n",
      "17\n",
      "Mickey\n",
      "19\n",
      "Mouse\n",
      "Mickey\n",
      "22\n",
      "23\n",
      "Mickey\n",
      "Mouse\n",
      "26\n",
      "Mickey\n",
      "28\n",
      "29\n",
      "MickeyMouse\n",
      "31\n",
      "32\n",
      "Mickey\n",
      "34\n",
      "Mouse\n",
      "Mickey\n",
      "37\n",
      "38\n",
      "Mickey\n",
      "Mouse\n",
      "41\n",
      "Mickey\n",
      "43\n",
      "44\n",
      "MickeyMouse\n",
      "46\n",
      "47\n",
      "Mickey\n",
      "49\n",
      "Mouse\n",
      "Mickey\n",
      "52\n",
      "53\n",
      "Mickey\n",
      "Mouse\n",
      "56\n",
      "Mickey\n",
      "58\n",
      "59\n",
      "MickeyMouse\n",
      "61\n",
      "62\n",
      "Mickey\n",
      "64\n",
      "Mouse\n",
      "Mickey\n",
      "67\n",
      "68\n",
      "Mickey\n",
      "Mouse\n",
      "71\n",
      "Mickey\n",
      "73\n",
      "74\n",
      "MickeyMouse\n",
      "76\n",
      "77\n",
      "Mickey\n",
      "79\n",
      "Mouse\n",
      "Mickey\n",
      "82\n",
      "83\n",
      "Mickey\n",
      "Mouse\n",
      "86\n",
      "Mickey\n",
      "88\n",
      "89\n",
      "MickeyMouse\n",
      "91\n",
      "92\n",
      "Mickey\n",
      "94\n",
      "Mouse\n",
      "Mickey\n",
      "97\n",
      "98\n",
      "Mickey\n",
      "(1, 2, 'Donald', 4, 'Duck', 'Donald', 7, 8, 'Donald', 'Duck', 11, 'Donald', 13, 14, 'DonaldDuck', 16, 17, 'Donald', 19, 'Duck', 'Donald', 22, 23, 'Donald', 'Duck', 26, 'Donald', 28, 29, 'DonaldDuck', 31, 32, 'Donald', 34, 'Duck', 'Donald', 37, 38, 'Donald', 'Duck', 41, 'Donald', 43, 44, 'DonaldDuck', 46, 47, 'Donald', 49, 'Duck', 'Donald', 52, 53, 'Donald', 'Duck', 56, 'Donald', 58, 59, 'DonaldDuck', 61, 62, 'Donald', 64, 'Duck', 'Donald', 67, 68, 'Donald', 'Duck', 71, 'Donald', 73, 74, 'DonaldDuck', 76, 77, 'Donald', 79, 'Duck', 'Donald', 82, 83, 'Donald', 'Duck', 86, 'Donald', 88, 89, 'DonaldDuck', 91, 92, 'Donald', 94, 'Duck', 'Donald', 97, 98, 'Donald')\n"
     ]
    }
   ],
   "source": [
    "\"\"\"\n",
    "for i in range (1,100):\n",
    "    if i%3==0 and i%5!=0:\n",
    "        print(\"Myckey\")\n",
    "    if i%5==0 and i%3!=0:\n",
    "        print(\"Muose\")  \n",
    "    if i%3==0 and i%5==0:\n",
    "        print(\"MickeyMuose\")  \n",
    "    if i%3!=0 and i%5!=0:\n",
    "        print(i)\n",
    "\"\"\"\n",
    "\n",
    "a=[]\n",
    "\n",
    "for i in range(1,100):\n",
    "    if i%3==0 or i%5==0:   \n",
    "        if i%5==0:\n",
    "            if i%3==0:\n",
    "                a.append(\"MickeyMouse\")  \n",
    "            else:\n",
    "                a.append(\"Mouse\")  \n",
    "        else:\n",
    "            a.append(\"Mickey\")  \n",
    "    else:\n",
    "        a.append(i)\n",
    "        \n",
    "for i in a: print (i)\n",
    "\n",
    "b=a\n",
    "\n",
    "\n",
    "for i in range (0,99):\n",
    "    if b[i]==\"MickeyMouse\":\n",
    "        b[i]=\"DonaldDuck\"\n",
    "    if b[i]==\"Mouse\":\n",
    "        b[i]=\"Duck\"\n",
    "    if b[i]==\"Mickey\":\n",
    "        b[i]=\"Donald\"\n",
    "at=tuple(x for x in b)\n",
    "print(at)"
   ]
  },
  {
   "cell_type": "markdown",
   "metadata": {},
   "source": [
    "2\\. The swap function\n",
    "\n",
    "Write a function that swap the values of two input variables x and y (whatever the type). Try to do that also without a temporary variable"
   ]
  },
  {
   "cell_type": "code",
   "execution_count": 2,
   "metadata": {},
   "outputs": [
    {
     "name": "stdin",
     "output_type": "stream",
     "text": [
      "input x 5\n",
      "input y 6\n"
     ]
    },
    {
     "name": "stdout",
     "output_type": "stream",
     "text": [
      "5 6\n",
      "6 5\n",
      "5 6\n"
     ]
    }
   ],
   "source": [
    "def canonic_swap (x,y):\n",
    "    t=x\n",
    "    x=y\n",
    "    y=t\n",
    "    return x,y\n",
    "    \n",
    "def python_swap (x,y):\n",
    "    return y,x\n",
    "\n",
    "x=input(\"input x\")\n",
    "y=input(\"input y\")\n",
    "print (x,y)\n",
    "x, y = canonic_swap(x,y)\n",
    "print(x,y)\n",
    "x, y = python_swap(x,y)\n",
    "print (x,y)\n"
   ]
  },
  {
   "cell_type": "markdown",
   "metadata": {},
   "source": [
    "3\\. Computing the distance\n",
    "\n",
    "Write a function that calculates and returns the euclidean distance between two points *u* and *v*, where *u* and *v* are both 2-tuples *(x,y)*. For example, if *u=(3,0)* and *v=(0,4)*, the function should return 5"
   ]
  },
  {
   "cell_type": "code",
   "execution_count": 3,
   "metadata": {},
   "outputs": [
    {
     "name": "stdout",
     "output_type": "stream",
     "text": [
      "5.0\n"
     ]
    }
   ],
   "source": [
    "import math\n",
    "def dist (a, b):\n",
    "    return math.sqrt(pow(a[0]-b[0],2) + pow(a[1]-b[1],2))\n",
    "a= (3,0)\n",
    "b=(0,4)\n",
    "print (dist(a,b))"
   ]
  },
  {
   "cell_type": "markdown",
   "metadata": {},
   "source": [
    "4\\. Counting letters\n",
    "\n",
    "Write a program to calculate the number of times each character occurs in a given string *s*. Ignore differneces in capitalization"
   ]
  },
  {
   "cell_type": "code",
   "execution_count": 4,
   "metadata": {},
   "outputs": [
    {
     "name": "stdout",
     "output_type": "stream",
     "text": [
      "{'W': 1, 'r': 17, 'i': 14, 't': 19, 'e': 22, ' ': 41, 'a': 7, 'p': 8, 'o': 13, 'g': 1, 'm': 8, 'h': 9, 'n': 10, 's': 9, 'u': 9, 'b': 4, 'f': 9, '1': 2, '0': 2, '.': 2, 'B': 1, 'l': 6, 'M': 4, 'c': 3, 'k': 2, 'y': 2, 'd': 3, 'v': 2, 'F': 1, 'w': 1}\n"
     ]
    }
   ],
   "source": [
    "s=\"Write a program that prints the numbers from 1 to 100. \\\n",
    "But for multiples of three print Mickey instead of the number and for the multiples of five print Mouse. \\\n",
    "For numbers which are multiples of both three and five print MickeyMouse\"\n",
    "\n",
    "a={}\n",
    "for letter in s:\n",
    "    f = False\n",
    "    for i in a:\n",
    "        if i==letter:\n",
    "            f=True\n",
    "    if f==False:\n",
    "        a[letter]=1\n",
    "    else:\n",
    "        a[letter]+=1\n",
    "print(a)"
   ]
  },
  {
   "cell_type": "markdown",
   "metadata": {},
   "source": [
    "5\\. Isolating the unique\n",
    "\n",
    "Write a function that determines and count the unique numbers in the list *l*"
   ]
  },
  {
   "cell_type": "code",
   "execution_count": 5,
   "metadata": {},
   "outputs": [
    {
     "name": "stdout",
     "output_type": "stream",
     "text": [
      "total uniques:  37\n"
     ]
    }
   ],
   "source": [
    "#as unique i intended number that appears only one time\n",
    "\n",
    "l = [157, 157, 36, 45, 58, 3, 74, 96, 64, 45, 31, 10, 24, 19, 33, 86, 99, 18, 63, 70, 85,\n",
    " 85, 63, 47, 56, 42, 70, 84, 88, 55, 20, 54, 8, 56, 51, 79, 81, 57, 37, 91,\n",
    " 1, 84, 84, 36, 66, 9, 89, 50, 42, 91, 50, 95, 90, 98, 39, 16, 82, 31, 92, 41,\n",
    " 45, 30, 66, 70, 34, 85, 94, 5, 3, 36, 72, 91, 84, 34, 87, 75, 53, 51, 20, 89, 51, 20]\n",
    "\n",
    "u=0\n",
    "for x in l:\n",
    "    f=0\n",
    "    for y in l:\n",
    "        if x==y:\n",
    "            f+=1\n",
    "    if f<2:\n",
    "        #print(x, \"is unique\")\n",
    "        u+=1\n",
    "print(\"total uniques: \", u)\n"
   ]
  },
  {
   "cell_type": "markdown",
   "metadata": {},
   "source": [
    "6\\. Combination of functions\n",
    "\n",
    "Write two functions - one that returns the square of a number, and one that returns the cube. Now write a third function that returns the number raised to the 6th power using the two previous functions."
   ]
  },
  {
   "cell_type": "code",
   "execution_count": 6,
   "metadata": {},
   "outputs": [
    {
     "name": "stdout",
     "output_type": "stream",
     "text": [
      "5\n",
      "25\n",
      "5\n",
      "125\n",
      "5\n",
      "3125\n"
     ]
    }
   ],
   "source": [
    "def square (x):\n",
    "    return x*x\n",
    "def cube   (x):\n",
    "    return x*x*x\n",
    "def sixth  (x):\n",
    "    return square(x)*cube(x)\n",
    "\n",
    "x=5\n",
    "print (x)\n",
    "x=square(x)\n",
    "print (x)\n",
    "\n",
    "y=5\n",
    "print (y)\n",
    "y=cube(y)\n",
    "print (y)\n",
    "\n",
    "z=5\n",
    "print (z)\n",
    "z=sixth(z)\n",
    "print (z)\n"
   ]
  },
  {
   "cell_type": "markdown",
   "metadata": {},
   "source": [
    "7\\. Cubes\n",
    "\n",
    "Create a list of the cubes of x for x in *[0, 10]* using:\n",
    "\n",
    "a) a for loop\n",
    "\n",
    "b) a list comprehension"
   ]
  },
  {
   "cell_type": "code",
   "execution_count": 7,
   "metadata": {},
   "outputs": [
    {
     "name": "stdout",
     "output_type": "stream",
     "text": [
      "[0, 1, 8, 27, 64, 125, 216, 343, 512, 729]\n",
      "[0, 1, 8, 27, 64, 125, 216, 343, 512, 729]\n"
     ]
    }
   ],
   "source": [
    "a=[]\n",
    "for i in range (0,10):\n",
    "    a.append(cube(i))\n",
    "print (a)\n",
    "\n",
    "b=[cube(x) for x in range (0,10)]\n",
    "print (b)"
   ]
  },
  {
   "cell_type": "markdown",
   "metadata": {},
   "source": [
    "8\\. Nested list comprehension\n",
    "\n",
    "A Pythagorean triple is an integer solution to the Pythagorean theorem $a^2+b^2=c^2$. The first Pythagorean triple is (3,4,5). Find and put in a tuple all unique Pythagorean triples for the positive integers a, b and c less than 100."
   ]
  },
  {
   "cell_type": "code",
   "execution_count": 8,
   "metadata": {},
   "outputs": [
    {
     "name": "stdout",
     "output_type": "stream",
     "text": [
      "((3, 4, 5), (5, 12, 13), (6, 8, 10), (7, 24, 25), (8, 15, 17), (9, 12, 15), (9, 40, 41), (10, 24, 26), (11, 60, 61), (12, 16, 20), (12, 35, 37), (13, 84, 85), (14, 48, 50), (15, 20, 25), (15, 36, 39), (16, 30, 34), (16, 63, 65), (18, 24, 30), (18, 80, 82), (20, 21, 29), (20, 48, 52), (21, 28, 35), (21, 72, 75), (24, 32, 40), (24, 45, 51), (24, 70, 74), (25, 60, 65), (27, 36, 45), (28, 45, 53), (30, 40, 50), (30, 72, 78), (32, 60, 68), (33, 44, 55), (33, 56, 65), (35, 84, 91), (36, 48, 60), (36, 77, 85), (39, 52, 65), (39, 80, 89), (40, 42, 58), (40, 75, 85), (42, 56, 70), (45, 60, 75), (48, 55, 73), (48, 64, 80), (51, 68, 85), (54, 72, 90), (57, 76, 95), (60, 63, 87), (65, 72, 97))\n"
     ]
    }
   ],
   "source": [
    "a=tuple([(x,y,z) for x in range (1,100) for y in range (x,100) for z in range (y,100) if x*x+y*y==z*z])\n",
    "print (a)"
   ]
  },
  {
   "cell_type": "markdown",
   "metadata": {},
   "source": [
    "9\\. Normalization\n",
    "\n",
    "Write a function that takes a tuple of numbers and returns it with the entries normalized to one"
   ]
  },
  {
   "cell_type": "code",
   "execution_count": 9,
   "metadata": {},
   "outputs": [
    {
     "name": "stdout",
     "output_type": "stream",
     "text": [
      "(3, 5, 8)\n",
      "(0.30304576336566325, 0.5050762722761054, 0.8081220356417685)\n",
      "(0.37500000000000006, 0.6250000000000001, 1.0)\n"
     ]
    }
   ],
   "source": [
    "import math\n",
    "\n",
    "#questa funzione è intesa come norma del vettore 1\n",
    "def norm(a):\n",
    "    t=0\n",
    "    for n in a:\n",
    "        t+=n*n\n",
    "    b=[x/math.sqrt(t) for x in a]\n",
    "    c=tuple(b)\n",
    "    return c\n",
    "#questa è intesa come valore massimo del vettore 1\n",
    "def norm2(a):\n",
    "    t=max(a)\n",
    "    b=[x/t for x in a]\n",
    "    c=tuple(b)\n",
    "    return c\n",
    "a=(3,5,8)\n",
    "print(a)\n",
    "a=norm (a)\n",
    "print (a)\n",
    "a=norm2 (a)\n",
    "print (a)"
   ]
  },
  {
   "cell_type": "code",
   "execution_count": null,
   "metadata": {},
   "outputs": [],
   "source": []
  }
 ],
 "metadata": {
  "kernelspec": {
   "display_name": "Python 3",
   "language": "python",
   "name": "python3"
  },
  "language_info": {
   "codemirror_mode": {
    "name": "ipython",
    "version": 3
   },
   "file_extension": ".py",
   "mimetype": "text/x-python",
   "name": "python",
   "nbconvert_exporter": "python",
   "pygments_lexer": "ipython3",
   "version": "3.7.3"
  }
 },
 "nbformat": 4,
 "nbformat_minor": 4
}
