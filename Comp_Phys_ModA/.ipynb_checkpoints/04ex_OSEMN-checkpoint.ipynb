{
 "cells": [
  {
   "cell_type": "markdown",
   "metadata": {},
   "source": [
    "# OSEMN Exercises"
   ]
  },
  {
   "cell_type": "code",
   "execution_count": 1,
   "metadata": {},
   "outputs": [],
   "source": [
    "%matplotlib inline\n",
    "import pandas as pd\n",
    "import numpy as np"
   ]
  },
  {
   "cell_type": "markdown",
   "metadata": {},
   "source": [
    "1\\. Create a random list of number and then save it to a text file named \"simple_data.txt\""
   ]
  },
  {
   "cell_type": "code",
   "execution_count": 2,
   "metadata": {},
   "outputs": [],
   "source": [
    "N=10\n",
    "np.savetxt(\"simple_data.txt\", np.random.rand(N))"
   ]
  },
  {
   "cell_type": "markdown",
   "metadata": {},
   "source": [
    "2\\. Create a random matrix of 5x5 and then save it to a text file named \"data.txt\""
   ]
  },
  {
   "cell_type": "code",
   "execution_count": 3,
   "metadata": {},
   "outputs": [],
   "source": [
    "N=3\n",
    "np.savetxt(\"data.txt\", np.random.rand(N, N))"
   ]
  },
  {
   "cell_type": "markdown",
   "metadata": {},
   "source": [
    "3\\. Load the saved txt file of point 2 and convert it to a csv file (by hand)"
   ]
  },
  {
   "cell_type": "code",
   "execution_count": 4,
   "metadata": {},
   "outputs": [
    {
     "name": "stdout",
     "output_type": "stream",
     "text": [
      "<class 'numpy.ndarray'>\n",
      "[0.00215232 0.58684945 0.06567951]\n",
      "[0.66974597 0.51395297 0.53761241]\n",
      "[0.51152316 0.339627   0.94137189]\n"
     ]
    }
   ],
   "source": [
    "import csv\n",
    "\n",
    "with open (\"data.csv\", \"w\") as outfile:\n",
    "    writer = csv.writer(outfile,delimiter=',')\n",
    "    data = np.loadtxt(\"data.txt\")\n",
    "    print(type(data))\n",
    "    for row in data:\n",
    "        print(row)\n",
    "        writer.writerow(row)"
   ]
  },
  {
   "cell_type": "markdown",
   "metadata": {},
   "source": [
    "4\\. load the binary file named *credit_card.dat* and convert the data into the real credit-card number.\n",
    "Each line correspond to a credit card number.\n",
    "Each character is composed by 6 bit (even the space) and the last 4 bit are just a padding"
   ]
  },
  {
   "cell_type": "code",
   "execution_count": 10,
   "metadata": {},
   "outputs": [
    {
     "name": "stdout",
     "output_type": "stream",
     "text": [
      "7648 5673 3775 2271\n",
      "3257 8247 3354 2266\n",
      "2722 0001 4011 6652\n",
      "0661 3063 3742 3150\n",
      "0432 1608 1462 4742\n",
      "5827 2027 8785 7303\n",
      "5774 8528 2087 1117\n",
      "8140 1210 6352 2845\n",
      "5764 1133 7301 7100\n",
      "6456 1737 4126 6726\n",
      "1228 8631 7382 0000\n",
      "7051 0160 5374 3166\n",
      "0618 3587 1630 6376\n",
      "1545 5454 7444 5636\n",
      "6735 3116 3202 6834\n",
      "7287 5011 1547 8413\n",
      "7033 2607 3328 4200\n",
      "2568 5244 1874 5024\n",
      "1684 2253 7570 7118\n",
      "0672 2576 0575 6631\n",
      "6332 8353 8787 1340\n",
      "1813 3361 1175 4211\n",
      "2477 6450 8840 2368\n",
      "5512 3505 2563 1326\n",
      "3083 7882 0621 0025\n",
      "4521 5148 8045 0334\n",
      "7563 3654 8713 5787\n",
      "8324 2664 0476 5561\n",
      "0565 2504 7168 3510\n",
      "5107 5507 1767 0738\n",
      "2462 1821 2448 1443\n",
      "2788 0638 6861 6554\n",
      "5851 5873 5474 0547\n",
      "0670 1004 4013 2655\n",
      "5874 5506 3048 0806\n",
      "2805 5401 8462 1260\n",
      "5083 8406 6310 1862\n",
      "1076 1445 3013 2266\n",
      "8440 4804 4844 5277\n",
      "4758 6141 0686 1387\n",
      "7586 0675 0315 2568\n",
      "2544 1258 7432 5165\n",
      "3474 5023 4434 5626\n",
      "1410 0270 0434 5086\n",
      "7315 4446 1104 4215\n",
      "0224 7742 8300 0266\n",
      "0170 2700 3145 0640\n",
      "2006 2437 8054 1600\n",
      "8142 4055 1776 0026\n",
      "3026 7380 1241 1084\n",
      "\n"
     ]
    },
    {
     "ename": "ValueError",
     "evalue": "invalid literal for int() with base 2: b''",
     "output_type": "error",
     "traceback": [
      "\u001b[0;31m---------------------------------------------------------------------------\u001b[0m",
      "\u001b[0;31mValueError\u001b[0m                                Traceback (most recent call last)",
      "\u001b[0;32m<ipython-input-10-9e6574f27091>\u001b[0m in \u001b[0;36m<module>\u001b[0;34m\u001b[0m\n\u001b[1;32m      7\u001b[0m         \u001b[0;32mif\u001b[0m \u001b[0mlines\u001b[0m \u001b[0;34m!=\u001b[0m \u001b[0mline\u001b[0m\u001b[0;34m[\u001b[0m\u001b[0;34m-\u001b[0m\u001b[0;36m1\u001b[0m\u001b[0;34m]\u001b[0m\u001b[0;34m:\u001b[0m\u001b[0;34m\u001b[0m\u001b[0;34m\u001b[0m\u001b[0m\n\u001b[1;32m      8\u001b[0m             \u001b[0;32mfor\u001b[0m \u001b[0mi\u001b[0m \u001b[0;32min\u001b[0m \u001b[0mrange\u001b[0m\u001b[0;34m(\u001b[0m\u001b[0;36m19\u001b[0m\u001b[0;34m)\u001b[0m\u001b[0;34m:\u001b[0m\u001b[0;34m\u001b[0m\u001b[0;34m\u001b[0m\u001b[0m\n\u001b[0;32m----> 9\u001b[0;31m                 \u001b[0msys\u001b[0m\u001b[0;34m.\u001b[0m\u001b[0mstdout\u001b[0m\u001b[0;34m.\u001b[0m\u001b[0mwrite\u001b[0m\u001b[0;34m(\u001b[0m\u001b[0mchr\u001b[0m\u001b[0;34m(\u001b[0m\u001b[0mint\u001b[0m\u001b[0;34m(\u001b[0m\u001b[0mline\u001b[0m\u001b[0;34m[\u001b[0m\u001b[0mi\u001b[0m\u001b[0;34m*\u001b[0m\u001b[0;36m6\u001b[0m\u001b[0;34m:\u001b[0m\u001b[0;34m(\u001b[0m\u001b[0mi\u001b[0m\u001b[0;34m+\u001b[0m\u001b[0;36m1\u001b[0m\u001b[0;34m)\u001b[0m\u001b[0;34m*\u001b[0m\u001b[0;36m6\u001b[0m\u001b[0;34m]\u001b[0m\u001b[0;34m,\u001b[0m\u001b[0;36m2\u001b[0m\u001b[0;34m)\u001b[0m\u001b[0;34m)\u001b[0m\u001b[0;34m)\u001b[0m\u001b[0;34m\u001b[0m\u001b[0;34m\u001b[0m\u001b[0m\n\u001b[0m\u001b[1;32m     10\u001b[0m         \u001b[0mprint\u001b[0m\u001b[0;34m(\u001b[0m\u001b[0;34m\"\"\u001b[0m\u001b[0;34m)\u001b[0m\u001b[0;34m\u001b[0m\u001b[0;34m\u001b[0m\u001b[0m\n",
      "\u001b[0;31mValueError\u001b[0m: invalid literal for int() with base 2: b''"
     ]
    }
   ],
   "source": [
    "import sys\n",
    "\n",
    "with open (\"credit_card.dat\", \"rb\") as infile:\n",
    "    lines = infile.readlines()\n",
    "    ctn = 0\n",
    "    for line in lines:\n",
    "        if lines != line[-1]:\n",
    "            for i in range(19):\n",
    "                sys.stdout.write(chr(int(line[i*6:(i+1)*6],2)))\n",
    "        print(\"\")"
   ]
  },
  {
   "cell_type": "markdown",
   "metadata": {},
   "source": [
    "this error depends on the formato of the file end, the reading is correct"
   ]
  },
  {
   "cell_type": "markdown",
   "metadata": {},
   "source": [
    "5\\. Load the file \"user_data.json\", filter the data by the \"CreditCardType\" field equals to \"American Express\". Than save the data a to CSV."
   ]
  },
  {
   "cell_type": "code",
   "execution_count": null,
   "metadata": {},
   "outputs": [],
   "source": [
    "import csv\n",
    "import json\n",
    "\n",
    "dataset= json.load(open(\"user_data.json\"))\n",
    "print(dataset[0].keys())\n",
    "\n",
    "for user in dataset:\n",
    "    if user['CreditCardType']=='American Express':\n",
    "        print(user.values())\n",
    "\n",
    "with open(\"Exercize5_OSEMN.dat\", \"w\") as outfile:\n",
    "    w= csv.writer(outfile, delimiter=',')\n",
    "    w.writerows(dataset[0].keys())\n",
    "    for user in dataset:\n",
    "        if user['CreditCardType']=='AmericanExpress':\n",
    "            w.writerows(user.values())"
   ]
  },
  {
   "cell_type": "markdown",
   "metadata": {},
   "source": [
    "6\\. Load the file from this url: [https://www.dropbox.com/s/7u3lm737ogbqsg8/mushrooms_categorized.csv?dl=1](https://www.dropbox.com/s/7u3lm737ogbqsg8/mushrooms_categorized.csv?dl=1) with Pandas. \n",
    "+ Explore the data (see the info of the data)\n",
    "+ Draw the istogram of the 'class' field. Decribe wath yuou see\n"
   ]
  },
  {
   "cell_type": "code",
   "execution_count": null,
   "metadata": {},
   "outputs": [],
   "source": [
    "import pandas as pd\n",
    "import io\n",
    "import requests\n",
    "url=\"https://www.dropbox.com/s/7u3lm737ogbqsg8/mushrooms_categorized.csv?dl=1\"\n",
    "s=requests.get(url).content\n",
    "c=pd.read_csv(io.StringIO(s.decode('utf-8')))"
   ]
  },
  {
   "cell_type": "code",
   "execution_count": null,
   "metadata": {},
   "outputs": [],
   "source": [
    "c.hist(column=\"class\")\n",
    "print(\"there are only 2 classes almost equivalently in numer\")"
   ]
  },
  {
   "cell_type": "markdown",
   "metadata": {},
   "source": [
    "7\\. Load the remote file [https://www.dropbox.com/s/vkl89yce7xjdq4n/regression_generated.csv?dl=1](https://www.dropbox.com/s/vkl89yce7xjdq4n/regression_generated.csv?dl=1) with Pandas and plot a scatter plot all possible combination of the following fields:\n",
    "    \n",
    "  + features_1\n",
    "  + features_2\n",
    "  + features_3"
   ]
  },
  {
   "cell_type": "code",
   "execution_count": null,
   "metadata": {},
   "outputs": [],
   "source": [
    "import pandas as pd\n",
    "import io\n",
    "import requests\n",
    "url=\"https://www.dropbox.com/s/vkl89yce7xjdq4n/regression_generated.csv?dl=1\"\n",
    "s=requests.get(url).content\n",
    "c=pd.read_csv(io.StringIO(s.decode('utf-8')))"
   ]
  },
  {
   "cell_type": "code",
   "execution_count": null,
   "metadata": {},
   "outputs": [],
   "source": [
    "c.plot.scatter(\"features_1\",\"features_2\")\n",
    "c.plot.scatter(\"features_1\",\"features_3\")\n",
    "c.plot.scatter(\"features_2\",\"features_3\")"
   ]
  },
  {
   "cell_type": "markdown",
   "metadata": {},
   "source": [
    "8. Load the same file of point 6, and convert the file to json with Pandas."
   ]
  },
  {
   "cell_type": "code",
   "execution_count": null,
   "metadata": {},
   "outputs": [],
   "source": [
    "import pandas as pd\n",
    "import io\n",
    "import requests\n",
    "url=\"https://www.dropbox.com/s/7u3lm737ogbqsg8/mushrooms_categorized.csv?dl=1\"\n",
    "s=requests.get(url).content\n",
    "c=pd.read_csv(io.StringIO(s.decode('utf-8')))\n",
    "c.to_json(\"mushrooms.json\")"
   ]
  },
  {
   "cell_type": "code",
   "execution_count": null,
   "metadata": {},
   "outputs": [],
   "source": []
  }
 ],
 "metadata": {
  "kernelspec": {
   "display_name": "Python 3",
   "language": "python",
   "name": "python3"
  },
  "language_info": {
   "codemirror_mode": {
    "name": "ipython",
    "version": 3
   },
   "file_extension": ".py",
   "mimetype": "text/x-python",
   "name": "python",
   "nbconvert_exporter": "python",
   "pygments_lexer": "ipython3",
   "version": "3.7.3"
  }
 },
 "nbformat": 4,
 "nbformat_minor": 4
}
