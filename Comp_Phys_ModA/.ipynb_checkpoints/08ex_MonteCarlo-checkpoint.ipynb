{
 "cells": [
  {
   "cell_type": "markdown",
   "metadata": {},
   "source": [
    "1\\. **Radioactive decay chain**\n",
    "\n",
    "${\\rm Tl}^{208}$ decays to ${\\rm Pb}^{208}$ with a half-lieve of 3.052 minutes. Suppose to start with a sample of 1000 Thallium atoms and 0 of Lead atoms.\n",
    "\n",
    "* Take steps in time of 1 second and at each time-step decide whether each Tl atom has decayed or not, accordingly to the probability $p(t)=1-2^{-t/\\tau}$. Subtract the total number of Tl atoms that decayed at each step from the Tl sample and add them to the Lead one. Plot the evolution of the two sets as a function of time  \n",
    "* Repeat the exercise by means of the inverse transform method: draw 1000 random numbers from the non-uniform probability distribution $p(t)=2^{-t/\\tau}\\frac{\\ln 2}{\\tau}$ to represent the times of decay of the 1000 Tl atoms. Make a plot showing the number of atoms that have not decayed as a function of time"
   ]
  },
  {
   "cell_type": "code",
   "execution_count": 1,
   "metadata": {},
   "outputs": [
    {
     "data": {
      "text/plain": [
       "<function matplotlib.pyplot.show(*args, **kw)>"
      ]
     },
     "execution_count": 1,
     "metadata": {},
     "output_type": "execute_result"
    },
    {
     "data": {
      "image/png": "[encoded data removed]",
      "text/plain": [
       "<Figure size 432x288 with 1 Axes>"
      ]
     },
     "metadata": {
      "needs_background": "light"
     },
     "output_type": "display_data"
    }
   ],
   "source": [
    "import matplotlib.pyplot as plt\n",
    "%matplotlib inline\n",
    "import math\n",
    "import numpy as np\n",
    "\n",
    "def pt (t):\n",
    "    return 1-2**(-t/(3.052*60))\n",
    "def pdf_expo(t):\n",
    "    return 2**(-t/(3.052*60)*math.log(2)/(3.052*60))              \n",
    "time=np.arange(0,1000)\n",
    "probs=np.random.uniform(0,1,1000)\n",
    "Ti=np.array([1000])\n",
    "Pb=np.array([0])\n",
    "\n",
    "for t in time[1:]:\n",
    "    decay=0\n",
    "    for i in range(len(probs)):\n",
    "        if(i>=len(probs)):\n",
    "            break\n",
    "        if(probs[i]<(pt(t))):\n",
    "            probs=np.delete(probs,[i])\n",
    "            i-=1\n",
    "            decay+=1\n",
    "    Pb=np.append(Pb, Pb[-1]+decay)\n",
    "    Ti=np.append(Ti, Ti[-1]-decay)\n",
    "\n",
    "\n",
    "plt.plot(time, Ti, c=\"red\", label=\"survived\")\n",
    "plt.plot(time, Pb, c=\"blue\", label=\"decayed\")\n",
    "plt.xlabel(\"Time\")\n",
    "plt.ylabel(\"counts\")\n",
    "plt.legend(fontsize=15,loc=\"best\")\n",
    "\n",
    "plt.show\n",
    "\n",
    "\n"
   ]
  },
  {
   "cell_type": "code",
   "execution_count": 2,
   "metadata": {},
   "outputs": [
    {
     "data": {
      "text/plain": [
       "(array([1000.,  855.,  738.,  618.,  533.,  451.,  378.,  319.,  264.,\n",
       "         220.,  187.,  153.,  127.,  109.,   92.,   77.,   70.,   57.,\n",
       "          48.,   41.,   28.,   28.,   22.,   19.,   18.,   15.,   14.,\n",
       "          12.,    9.,    8.,    8.,    5.,    5.,    4.,    3.,    2.,\n",
       "           2.,    2.,    2.,    2.,    2.,    1.,    1.,    1.,    1.,\n",
       "           1.,    1.,    1.,    1.,    1.]),\n",
       " array([2.26915456e-01, 4.45337057e+01, 8.88404960e+01, 1.33147286e+02,\n",
       "        1.77454077e+02, 2.21760867e+02, 2.66067657e+02, 3.10374447e+02,\n",
       "        3.54681238e+02, 3.98988028e+02, 4.43294818e+02, 4.87601609e+02,\n",
       "        5.31908399e+02, 5.76215189e+02, 6.20521979e+02, 6.64828770e+02,\n",
       "        7.09135560e+02, 7.53442350e+02, 7.97749140e+02, 8.42055931e+02,\n",
       "        8.86362721e+02, 9.30669511e+02, 9.74976302e+02, 1.01928309e+03,\n",
       "        1.06358988e+03, 1.10789667e+03, 1.15220346e+03, 1.19651025e+03,\n",
       "        1.24081704e+03, 1.28512383e+03, 1.32943062e+03, 1.37373741e+03,\n",
       "        1.41804420e+03, 1.46235099e+03, 1.50665778e+03, 1.55096458e+03,\n",
       "        1.59527137e+03, 1.63957816e+03, 1.68388495e+03, 1.72819174e+03,\n",
       "        1.77249853e+03, 1.81680532e+03, 1.86111211e+03, 1.90541890e+03,\n",
       "        1.94972569e+03, 1.99403248e+03, 2.03833927e+03, 2.08264606e+03,\n",
       "        2.12695285e+03, 2.17125964e+03, 2.21556643e+03]),\n",
       " <a list of 50 Patch objects>)"
      ]
     },
     "execution_count": 2,
     "metadata": {},
     "output_type": "execute_result"
    },
    {
     "data": {
      "image/png": "[encoded data removed]",
      "text/plain": [
       "<Figure size 504x720 with 1 Axes>"
      ]
     },
     "metadata": {
      "needs_background": "light"
     },
     "output_type": "display_data"
    }
   ],
   "source": [
    "def exp_pdf(p):\n",
    "    return -np.log(1-p)/(np.log(2)/(3.056*60))\n",
    "x = np.random.uniform(0,1,1000)\n",
    "fig, ax = plt.subplots(1,1, figsize=(7, 10))\n",
    "t=exp_pdf(x)\n",
    "ax.hist(t,bins=50,cumulative=-1)"
   ]
  },
  {
   "cell_type": "markdown",
   "metadata": {},
   "source": [
    "2\\. **Rutherford Scattering**\n",
    "\n",
    "The scattering angle $\\theta$ of $\\alpha$ particles hitting a positively charged nucleus of a Gold atom ($Z=79$) follows the rule:\n",
    "\n",
    "$$\n",
    "\\tan{\\frac{1}{2} \\theta} = \\frac{Z e^2} {2\\pi \\epsilon_0 E b}\n",
    "$$\n",
    "\n",
    "where $E=7.7$ MeV and $b$ beam is the impact parameter. The beam is represented by a 2D gaussian distribution with $\\sigma=a_0/100$ for both coordinates ($a_0$ being the Bohr radius). Assume 1 million $\\alpha$ particles are shot on the gold atom.\n",
    "\n",
    "Computing the fraction of particles that \"bounce back\",i.e. those particle whose scattering angle is greater than $\\pi/2$ (which set a condition on the impact parameter $b$)"
   ]
  },
  {
   "cell_type": "code",
   "execution_count": 3,
   "metadata": {},
   "outputs": [
    {
     "data": {
      "image/png": "[encoded data removed]",
      "text/plain": [
       "<Figure size 432x432 with 1 Axes>"
      ]
     },
     "metadata": {
      "needs_background": "light"
     },
     "output_type": "display_data"
    },
    {
     "data": {
      "image/png": "[encoded data removed]",
      "text/plain": [
       "<Figure size 432x432 with 1 Axes>"
      ]
     },
     "metadata": {
      "needs_background": "light"
     },
     "output_type": "display_data"
    }
   ],
   "source": [
    "import numpy as np\n",
    "import matplotlib.pyplot as plt\n",
    "%matplotlib inline\n",
    "import math\n",
    "\n",
    "Z=79\n",
    "e=1.602176565*10**(-19)\n",
    "E=7.7*10**(6)*e\n",
    "a0=5.2917721067*10**(-11)\n",
    "e0=8.8541878176*10**(-12)\n",
    "\n",
    "constants=Z*e**2/(2*np.pi*e0*E)\n",
    "\n",
    "n=10**6\n",
    "y = np.random.normal(0, a0/100, n)\n",
    "z = np.random.normal(0, a0/100, n)\n",
    "b=np.array([math.sqrt(yb**2+zb**2) for yb,zb in zip(y,z)])\n",
    "plt.figure(figsize=(6,6))\n",
    "plt.hist2d(y, z,bins=100)\n",
    "plt.xlabel('y')\n",
    "plt.ylabel('z')\n",
    "plt.xlim(-10**(-12),10**(-12))\n",
    "plt.ylim(-10**(-12),10**(-12))\n",
    "\n",
    "plt.title(\"beam density\")\n",
    "plt.show()\n",
    "\n",
    "\n",
    "\n",
    "theta=2*np.arctan(constants/b)\n",
    "n_bounce=np.sum(theta>np.pi/2)\n",
    "\n",
    "plt.figure(figsize=(6,6))\n",
    "plt.hist(theta,bins=100)\n",
    "plt.xlabel('theta (radians)')\n",
    "plt.ylabel('counts')\n",
    "plt.xlim(0,3.5)\n",
    "plt.yscale('log')\n",
    "plt.text(0.5,1e5, \"Bounce percentage: \"+str(n_bounce/1e4)+\"%\")\n",
    "\n",
    "plt.show()\n",
    "\n"
   ]
  },
  {
   "cell_type": "markdown",
   "metadata": {},
   "source": [
    "3\\. **Monte Carlo integration: hit/miss vs mean value method**\n",
    "\n",
    "Consider the function \n",
    "\n",
    "$$f(x) =\\sin^2{\\frac{1}{x(2-x)}}$$\n",
    "\n",
    "* Compute the integral of $f(x)$ between 0 and 2 with the hit/miss method. Evaluate the error of your estimate\n",
    "* Repeat the integral with the mean value method. Evaluate the error and compare it with the previous one"
   ]
  },
  {
   "cell_type": "code",
   "execution_count": 4,
   "metadata": {},
   "outputs": [
    {
     "name": "stdout",
     "output_type": "stream",
     "text": [
      "1.4533933333333333\n",
      "1.4494733333333332\n",
      "1.4515266666666669\n",
      "1.4497133333333332\n",
      "1.4540389330931518\n",
      "1.451755913195554\n",
      "1.447514478041791\n",
      "1.458286227134121\n"
     ]
    }
   ],
   "source": [
    "import numpy as np\n",
    "import math\n",
    "\n",
    "def f3 (x):\n",
    "    return (math.sin(1.0/(x*(2-x))))**2\n",
    "\n",
    "def hitmiss (a, b, n):\n",
    "    #numbers between 0 and 1, perfect for the y, to be redefined for x\n",
    "    points = np.random.random((n,2))\n",
    "    #remap points\n",
    "    points[:,0]*=(b-a)\n",
    "    points[:,0]+=a\n",
    "    #counting\n",
    "    cont =0\n",
    "    for p in points:\n",
    "        if f3(p[0])>p[1]:\n",
    "            cont+=1\n",
    "    area= (b-a)*1*cont/n\n",
    "    return area\n",
    "    \n",
    "def av_hitmiss(a,b,n):\n",
    "    suma=0\n",
    "    for i in range (30):\n",
    "        suma +=hitmiss(a,b,n)\n",
    "    return suma/30\n",
    "\n",
    "def mean_val (a,b,n):\n",
    "    #geenrate and map on range\n",
    "    samples=np.random.random(n)\n",
    "    samples*=(b-a)\n",
    "    samples+=a\n",
    "    s=np.sum([f3(x) for x in samples])\n",
    "    return s*(b-a)/n\n",
    "    \n",
    "\n",
    "print(av_hitmiss(0,2, 10000))\n",
    "print(av_hitmiss(0,2, 10000))\n",
    "print(av_hitmiss(0,2, 10000))\n",
    "print(av_hitmiss(0,2, 10000))\n",
    "\n",
    "print(mean_val(0,2, 10000))\n",
    "print(mean_val(0,2, 10000))\n",
    "print(mean_val(0,2, 10000))\n",
    "print(mean_val(0,2, 10000))\n",
    "    "
   ]
  },
  {
   "cell_type": "markdown",
   "metadata": {},
   "source": [
    "4\\. **Monte Carlo integration in high dimension**\n",
    "\n",
    "* Start of by computing the area of a circle of unit radius, by integrating the function \n",
    "\n",
    "$$\n",
    "f(x,y)=\n",
    "\\left\\{\n",
    "\\begin{array}{ll}\n",
    "      1 & x^2+y^2\\le 1 \\\\\n",
    "      0 & {\\rm elsewhere}\n",
    "\\end{array} \n",
    "\\right.\n",
    "$$\n",
    "\n",
    "* Generalize the result for a 10D sphere\n",
    "\n"
   ]
  },
  {
   "cell_type": "code",
   "execution_count": 5,
   "metadata": {},
   "outputs": [
    {
     "name": "stdout",
     "output_type": "stream",
     "text": [
      "\t my value \t etimated value\n",
      "2dim\t 3.1448 \t 3.141592653589793\n",
      "3dim\t 4.1984 \t 4.1887902047863905\n",
      "10dim\t 1.8432 \t 2.550164039877345\n",
      "10dim\t 2.53952 \t 2.550164039877345  need more points to converge\n"
     ]
    }
   ],
   "source": [
    "def dist(p):\n",
    "    return np.sum(p**2)\n",
    "\n",
    "def mc_int(n, dim):\n",
    "    points=np.random.random((n,dim))\n",
    "    cont=0\n",
    "    for p in points:\n",
    "        if dist(p)<1:\n",
    "            cont+=1\n",
    "    return (2**dim)*cont/n\n",
    "\n",
    "print(\"\\t my value \\t etimated value\")\n",
    "print (\"2dim\\t\",mc_int(10000, 2),\"\\t\", math.pi)\n",
    "print (\"3dim\\t\",mc_int(10000, 3),\"\\t\", math.pi*4/3)\n",
    "print (\"10dim\\t\",mc_int(10000, 10),\"\\t\", math.pi**5/120) #volume ipersfera 10-dim\n",
    "#servono più numeri\n",
    "print (\"10dim\\t\",mc_int(100000, 10),\"\\t\", math.pi**5/120, \" need more points to converge\") #volume ipersfera 10-dim\n",
    "\n",
    "\n"
   ]
  },
  {
   "cell_type": "code",
   "execution_count": 6,
   "metadata": {},
   "outputs": [
    {
     "name": "stdout",
     "output_type": "stream",
     "text": [
      "[4.0, 3.2, 3.148, 3.1376]\n"
     ]
    }
   ],
   "source": [
    "x=np.arange(1,5,1)\n",
    "\n",
    "integ=[mc_int(10**a,2)for a in x]\n",
    "print(integ)"
   ]
  },
  {
   "cell_type": "markdown",
   "metadata": {},
   "source": [
    "5\\. **Monte Carlo integration with importance sampling** \n",
    "\n",
    "Calculate the value of the integral:\n",
    "\n",
    "$$\n",
    "I=\\int_0^1 \\frac{x^{-1/2}}{e^x+1} dx\n",
    "$$\n",
    "\n",
    "using the importance sampling method with $w(x)=1/\\sqrt{x}$. You should get a result about 0.84"
   ]
  },
  {
   "cell_type": "code",
   "execution_count": 7,
   "metadata": {},
   "outputs": [
    {
     "name": "stdout",
     "output_type": "stream",
     "text": [
      "Number of points : 10^ 0 \tintegral value:  0.40097245878388754\n",
      "Number of points : 10^ 1 \tintegral value:  0.49669916760171057\n",
      "Number of points : 10^ 2 \tintegral value:  0.7252949489210867\n",
      "Number of points : 10^ 3 \tintegral value:  0.7300425920940372\n",
      "Number of points : 10^ 4 \tintegral value:  0.7620327195553975\n",
      "Number of points : 10^ 5 \tintegral value:  0.7642623134731534\n"
     ]
    }
   ],
   "source": [
    "import numpy as np\n",
    "import math\n",
    "\n",
    "def make_grid(xmin, xmax, n):\n",
    "    return np.random.uniform(xmin,xmax, int(n))\n",
    "\n",
    "def integ_mean (f, a,b,N):\n",
    "    x=f(np.random.uniform(a,b,int(N))*(b-a))\n",
    "    return (b-a)*np.sum(x)/float(N)\n",
    "    \n",
    "def wx (x):\n",
    "    return 1/np.sqrt(x)\n",
    "def fx (x):\n",
    "    return 1.0/(np.sqrt(x)*(np.exp(x)+1))\n",
    "\n",
    "N=1e6\n",
    "\n",
    "for i in range(6):\n",
    "    N=10**i\n",
    "    x=make_grid(0,1,N)\n",
    "    w_integ=integ_mean(wx,0,1,N)\n",
    "    tot_integ=np.sum(np.array([fx(xi)/wx(xi) for xi in x]))*w_integ/N\n",
    "    print(\"Number of points : 10^\", i, \"\\tintegral value: \",tot_integ)\n"
   ]
  },
  {
   "cell_type": "code",
   "execution_count": null,
   "metadata": {},
   "outputs": [],
   "source": []
  }
 ],
 "metadata": {
  "kernelspec": {
   "display_name": "Python 3",
   "language": "python",
   "name": "python3"
  },
  "language_info": {
   "codemirror_mode": {
    "name": "ipython",
    "version": 3
   },
   "file_extension": ".py",
   "mimetype": "text/x-python",
   "name": "python",
   "nbconvert_exporter": "python",
   "pygments_lexer": "ipython3",
   "version": "3.7.3"
  }
 },
 "nbformat": 4,
 "nbformat_minor": 4
}
