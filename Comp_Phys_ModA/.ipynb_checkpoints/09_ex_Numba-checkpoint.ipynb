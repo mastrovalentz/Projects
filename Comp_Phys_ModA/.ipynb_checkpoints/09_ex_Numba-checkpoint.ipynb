{
 "cells": [
  {
   "cell_type": "markdown",
   "metadata": {},
   "source": [
    "## Exercise 1\n",
    "\n",
    "Create a vectorized version of log and exp math function for 1D array A = [2, 5, 10, 3, 8]\n",
    "\n",
    "Results should be: \n",
    "+ [0.6931472 1.609438  2.3025851 1.0986123 2.0794415]\n",
    "+ [7.3890562e+00 1.4841316e+02 2.2026465e+04 2.0085537e+01 2.9809580e+03]"
   ]
  },
  {
   "cell_type": "code",
   "execution_count": 1,
   "metadata": {},
   "outputs": [],
   "source": [
    "import os\n",
    "import numpy as np\n",
    "import math\n",
    "from numba import jit, njit, vectorize, cuda, int64, float32, int32, int16\n",
    "\n"
   ]
  },
  {
   "cell_type": "code",
   "execution_count": 2,
   "metadata": {},
   "outputs": [
    {
     "name": "stdout",
     "output_type": "stream",
     "text": [
      "[0.6931472 1.609438  2.3025851 1.0986123 2.0794415]\n",
      "[7.3890562e+00 1.4841316e+02 2.2026465e+04 2.0085537e+01 2.9809580e+03]\n"
     ]
    }
   ],
   "source": [
    "@vectorize([float32(float32)], target='parallel', fastmath=True) \n",
    "def exp_vect(arr):\n",
    "    y= math.exp(arr)\n",
    "    return y\n",
    "@vectorize([float32(float32)], target='parallel', fastmath=True) \n",
    "def log_vect(arr):\n",
    "    y=math.log(arr)\n",
    "    return y\n",
    "\n",
    "A=np.array([2,5,10,3,8], dtype='float32')\n",
    "\n",
    "print(log_vect(A))\n",
    "print(exp_vect(A))"
   ]
  },
  {
   "cell_type": "markdown",
   "metadata": {},
   "source": [
    "## Exerice 2\n",
    "Compute the value of a Gaussian probability density function at $x$ with $mean = 1$, $\\sigma = 1$, lower and upper bound in $(-3, 3)$ and $size = 100000$"
   ]
  },
  {
   "cell_type": "code",
   "execution_count": 3,
   "metadata": {},
   "outputs": [
    {
     "name": "stdout",
     "output_type": "stream",
     "text": [
      "0.43355\n"
     ]
    }
   ],
   "source": [
    "import math\n",
    "import numpy as np\n",
    "\n",
    "mean=1\n",
    "sigma=1\n",
    "\n",
    "@vectorize([int32(float32,float32)], target=\"parallel\", fastmath=True)\n",
    "def hit_or_miss(x,y):\n",
    "    global mean\n",
    "    global sigma\n",
    "    p=math.exp(-(((x-mean)/sigma)**2)/2)\n",
    "    if p<y:\n",
    "        c=1\n",
    "    else:\n",
    "        c=0\n",
    "    return c\n",
    "N=1000000\n",
    "\n",
    "\n",
    "x=np.random.uniform(-3,3,N).astype(np.float32)\n",
    "y=np.random.uniform(-3,3,N).astype(np.float32)\n",
    "\n",
    "value=np.sum([hit_or_miss(x,y)])/N\n",
    "print(value)"
   ]
  },
  {
   "cell_type": "markdown",
   "metadata": {},
   "source": [
    "## Exercise 3\n",
    "\n",
    "Create a \"zero suppression\" function. A common operation when working with waveforms is to force all samples values below a certain absolute magnitude to be zero, as a way to eliminate low amplitude noise. \n",
    "Plot the data before and after the application of the zero_suppress function.\n",
    "\n",
    "$thresold = 15$"
   ]
  },
  {
   "cell_type": "code",
   "execution_count": 4,
   "metadata": {},
   "outputs": [
    {
     "data": {
      "text/plain": [
       "Text(0.5, 1.0, 'Cleaned data')"
      ]
     },
     "execution_count": 4,
     "metadata": {},
     "output_type": "execute_result"
    },
    {
     "data": {
      "image/png": "[encoded data removed]",
      "text/plain": [
       "<Figure size 864x288 with 2 Axes>"
      ]
     },
     "metadata": {
      "needs_background": "light"
     },
     "output_type": "display_data"
    }
   ],
   "source": [
    "%matplotlib inline\n",
    "from matplotlib import pyplot as plt\n",
    "\n",
    "n = 100000\n",
    "noise = np.random.normal(size=n) * 3\n",
    "pulses = np.maximum(np.sin(np.arange(n) / (n / 23)) - 0.3, 0.0)\n",
    "data = ((pulses * 300) + noise).astype(np.int16)\n",
    "\n",
    "\n",
    "\n",
    "@vectorize([int16(int16)], target=\"parallel\", fastmath=True)\n",
    "def noise_suppress (x):\n",
    "    if x<15:\n",
    "        x=0\n",
    "    return x\n",
    "\n",
    "cleaned_data=noise_suppress(data)\n",
    "\n",
    "fig, (fig1, fig2)= plt.subplots(nrows=1, ncols=2, figsize=(12, 4))\n",
    "fig1.plot(np.arange(0,len(data)), data)   \n",
    "fig1.set_title(\"Noisy data\")\n",
    "fig2.plot(np.arange(0,len(cleaned_data)), cleaned_data)\n",
    "fig2.set_title(\"Cleaned data\")"
   ]
  },
  {
   "cell_type": "markdown",
   "metadata": {},
   "source": [
    "## Exercise 4\n",
    "\n",
    "Calculate the Sigmoid kernel between the matrix X and Y defined as below. The Sigmoid kernel is defined as:\n",
    "\n",
    "$k(x,y) = \\tanh(\\alpha x^T y + c) $"
   ]
  },
  {
   "cell_type": "code",
   "execution_count": 5,
   "metadata": {},
   "outputs": [],
   "source": [
    "X = np.random.rand(3,3)\n",
    "Y = np.random.rand(3,3)\n",
    "a=1\n",
    "c=0\n",
    "\n",
    "@cuda.jit\n",
    "def sigmoid_kernel(x,y, k):\n",
    "    global a \n",
    "    global c\n",
    "    i,j=cudas.grid(2)\n",
    "    if j < k.shape[0] and i < y.shape[1]:  \n",
    "        k[i][j]=math.tanh(np.dot(x[i,:],y[:,j]))"
   ]
  },
  {
   "cell_type": "markdown",
   "metadata": {},
   "source": [
    "## Exercise 5\n",
    "\n",
    "Create a kernel function similar to the ```double_kernel``` see during the lecture and create a new function that takes a 3 dimensional matrix as input calculating the $cos$ for each element and then returns the result. The shape of the matrix must be $256X256X256$. The matrix can be randomly generated"
   ]
  },
  {
   "cell_type": "code",
   "execution_count": 6,
   "metadata": {},
   "outputs": [],
   "source": [
    "@cuda.jit\n",
    "def double_kernel(io_array):\n",
    "    i,j,k =cuda.grid(3)\n",
    "    if ( i < io_array.shape[0] and\n",
    "         j < io_array.shape[1] and\n",
    "         k < io_array.shape[2]) :\n",
    "        io_array[i][j][k] =  math.cos(io_array[i][j][j])\n",
    "        \n",
    "        \n",
    "data = np.random.random((256,256,256))\n",
    "threadsperblock = (32,32,32)\n",
    "\n",
    "blockspergrid_x = int(math.ceil(data.shape[0] / threadsperblock[0]))\n",
    "blockspergrid_y = int(math.ceil(data.shape[1] / threadsperblock[1]))\n",
    "blockspergrid_z = int(math.ceil(data.shape[2] / threadsperblock[2]))\n",
    "\n",
    "blockspergrid = (blockspergrid_x, blockspergrid_y, blockspergrid_z)\n",
    "#cos_kernel[blockspergrid, threadsperblock](data)\n",
    "\n",
    "# Print the result\n",
    "#print(data) "
   ]
  },
  {
   "cell_type": "markdown",
   "metadata": {},
   "source": [
    "## Exercise 6\n",
    "\n",
    "Create a matrix multiplication kernel function, called ```matmul``` that takes as input two 2D matrices:\n",
    "+ A of shape $24x12$\n",
    "+ B of shape $12x22$\n",
    "and that computes the multiplication and put the results into a third matrix C of shape $24x12$\n",
    "\n",
    "A and B must be randomly generated and only int values are allowed.\n"
   ]
  },
  {
   "cell_type": "code",
   "execution_count": 7,
   "metadata": {},
   "outputs": [],
   "source": [
    "from __future__ import division\n",
    "from numba import cuda\n",
    "import numpy\n",
    "import math\n",
    "\n",
    "# complete the code\n",
    "@cuda.jit\n",
    "def matmul(A, B, C):\n",
    "    \"\"\"Perform matrix multiplication of C = A * B\n",
    "    \"\"\"\n",
    "    row, col = cuda.grid(2)\n",
    "    if row < C.shape[0] and col < C.shape[1]:\n",
    "        tmp = 0.\n",
    "        for k in range(A.shape[1]):\n",
    "            tmp += A[row, k] * B[k, col]\n",
    "        C[row, col] = tmp\n",
    "\n",
    "# Initialize the data arrays\n",
    "A = np.random.random((24,12))\n",
    "B = np.random.random((12,22))\n",
    "\n",
    "# Configure the blocks\n",
    "threadsperblock = (6,2) # 22 makes necessary using only 2 threads on y ax\n",
    "blockspergrid_x = int(math.ceil(data.shape[0] / threadsperblock[0]))\n",
    "blockspergrid_y =  int(math.ceil(data.shape[1] / threadsperblock[1]))\n",
    "blockspergrid = (blockspergrid_x, blockspergrid_y)\n",
    "\n"
   ]
  },
  {
   "cell_type": "code",
   "execution_count": null,
   "metadata": {},
   "outputs": [],
   "source": []
  }
 ],
 "metadata": {
  "kernelspec": {
   "display_name": "Python 3",
   "language": "python",
   "name": "python3"
  },
  "language_info": {
   "codemirror_mode": {
    "name": "ipython",
    "version": 3
   },
   "file_extension": ".py",
   "mimetype": "text/x-python",
   "name": "python",
   "nbconvert_exporter": "python",
   "pygments_lexer": "ipython3",
   "version": "3.7.3"
  }
 },
 "nbformat": 4,
 "nbformat_minor": 4
}
