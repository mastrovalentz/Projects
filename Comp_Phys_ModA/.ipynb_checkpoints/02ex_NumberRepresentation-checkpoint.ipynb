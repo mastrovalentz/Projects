{
 "cells": [
  {
   "cell_type": "markdown",
   "metadata": {},
   "source": [
    "1\\. Write a function that converts number representation (bin<->dec<->hex)"
   ]
  },
  {
   "cell_type": "code",
   "execution_count": 1,
   "metadata": {},
   "outputs": [
    {
     "name": "stdout",
     "output_type": "stream",
     "text": [
      "5\n",
      "12\n",
      "110\n",
      "c\n"
     ]
    }
   ],
   "source": [
    "mapDecHex = {0:0, 1:1, 2:2, 3:3, 4:4, 5:5, 6:6, 7:7, 8:8, 9:9, 10:'a', 11:'b', 12:'c', 13:'d', 14:'e', 15:'f'}\n",
    "mapHexDec = {'0':0, '1':1, '2':2, '3':3, '4':4, '5':5, '6':6, '7':7, '8':8, '9':9, 'a':10, 'b':11, 'c':12, 'd':13, 'e':14, 'f':15}\n",
    "\n",
    "def BinToDec (x):\n",
    "    y=str(x)\n",
    "    result= \"\"\n",
    "    decimal=0\n",
    "    if x==0:\n",
    "        return '0'\n",
    "    for i,j in zip(map(str.lower,y),range(len(y))):\n",
    "        k=(int)(mapHexDec[i])\n",
    "        decimal += k*2**(len(y)-j-1)\n",
    "    while decimal>0 :\n",
    "        result += str(mapDecHex[decimal % 10])\n",
    "        decimal =decimal//10\n",
    "    return result[::-1] #revert the string\n",
    "    \n",
    "\n",
    "def HexToDec (x):\n",
    "    y=str(x)\n",
    "    result= \"\"\n",
    "    decimal=0\n",
    "    if x==0:\n",
    "        return '0'\n",
    "    for i,j in zip(map(str.lower,y),range(len(y))):\n",
    "        k=(int)(mapHexDec[i])\n",
    "        decimal += k*16**(len(y)-j-1)\n",
    "    while decimal>0 :\n",
    "        result += str(mapDecHex[decimal % 10])\n",
    "        decimal =decimal//10\n",
    "    return result[::-1]\n",
    "\n",
    "def DecToBin (x):\n",
    "    y=str(x)\n",
    "    result= \"\"\n",
    "    decimal=0\n",
    "    if x==0:\n",
    "        return '0'\n",
    "    for i,j in zip(map(str.lower,y),range(len(y))):\n",
    "        k=(int)(mapHexDec[i])\n",
    "        decimal += k*10**(len(y)-j-1)\n",
    "    while decimal>0 :\n",
    "        result += str(mapDecHex[decimal % 2])\n",
    "        decimal =decimal//2\n",
    "    return result[::-1]\n",
    "\n",
    "\n",
    "def DecToHex (x):\n",
    "    y=str(x)\n",
    "    result= \"\"\n",
    "    decimal=0\n",
    "    if x==0:\n",
    "        return '0'\n",
    "    for i,j in zip(map(str.lower,y),range(len(y))):\n",
    "        k=(int)(mapHexDec[i])\n",
    "        decimal += k*10**(len(y)-j-1)\n",
    "    while decimal>0 :\n",
    "        result += str(mapDecHex[decimal % 16])\n",
    "        decimal =decimal//16\n",
    "    return result[::-1]\n",
    "\n",
    "print(BinToDec(101))\n",
    "print(HexToDec(\"c\"))\n",
    "\n",
    "print(DecToBin(6))\n",
    "print(DecToHex(12))\n"
   ]
  },
  {
   "cell_type": "markdown",
   "metadata": {},
   "source": [
    "2\\. Write a function that converts a 32 bit word into a single precision floating point (i.e. interprets the various bits as sign, mantissa and exponent)"
   ]
  },
  {
   "cell_type": "code",
   "execution_count": 2,
   "metadata": {},
   "outputs": [
    {
     "name": "stdout",
     "output_type": "stream",
     "text": [
      "0b1111010011110100111101001111010\n",
      "mantissa:  1.9137253761291504\n",
      "exponent:  233\n",
      "number:  -1.5525984779021514e+32\n"
     ]
    }
   ],
   "source": [
    "a='zzzz'\n",
    "import math\n",
    "b=bin(int.from_bytes(a.encode(), 'big'))\n",
    "print(b)\n",
    "\n",
    "f=1.0\n",
    "e=0\n",
    "for i in range(11,33):\n",
    "    if b[i]=='1' :\n",
    "        f+=pow(2, -i+10)\n",
    "        #print(f)\n",
    "for i in range(3, 11):\n",
    "    if b[i]=='1' :\n",
    "        e+=pow(2, 10-i)\n",
    "\n",
    "print(\"mantissa: \", f)\n",
    "print(\"exponent: \", e)\n",
    "f*=pow(2,e-127)*pow(-1, int(b[2]) )\n",
    "print (\"number: \",  f)\n"
   ]
  },
  {
   "cell_type": "markdown",
   "metadata": {},
   "source": [
    "3\\. Write a program to determine the underflow and overflow limits (within a factor of 2) for python on your computer. \n",
    "\n",
    "**Tips**: define two variables inizialized to 1 and halve/double them enough time to exceed the under/over-flow limits  "
   ]
  },
  {
   "cell_type": "code",
   "execution_count": 3,
   "metadata": {},
   "outputs": [
    {
     "name": "stdout",
     "output_type": "stream",
     "text": [
      "Underflow limit 5e-324\n",
      "Overflow limit 8.98846567431158e+307\n"
     ]
    }
   ],
   "source": [
    "a=1.0\n",
    "b=1.0\n",
    "#da migliroare\n",
    "\n",
    "while a!=0. :\n",
    "    tempA = a\n",
    "    a /=2\n",
    "while b/b==1. :\n",
    "    tempB = b\n",
    "    b *=2\n",
    "\n",
    "print(\"Underflow limit\", tempA)\n",
    "print(\"Overflow limit\", tempB)"
   ]
  },
  {
   "cell_type": "markdown",
   "metadata": {},
   "source": [
    "4\\. Write a program to determine the machine precision\n",
    "\n",
    "**Tips**: define a new variable by adding a smaller and smaller value (proceeding similarly to prob. 2) to an original variable and check the point where the two are the same "
   ]
  },
  {
   "cell_type": "code",
   "execution_count": 4,
   "metadata": {},
   "outputs": [
    {
     "name": "stdout",
     "output_type": "stream",
     "text": [
      "0x1.0000000000000p+0 0x1.0000000000000p+0\n",
      "different at  1\n",
      "different at  2\n",
      "different at  3\n",
      "different at  4\n",
      "different at  5\n",
      "different at  6\n",
      "different at  7\n",
      "different at  8\n",
      "different at  9\n",
      "different at  10\n",
      "different at  11\n",
      "different at  12\n",
      "different at  13\n",
      "different at  14\n",
      "different at  15\n",
      "they are the same at  16  iteration\n"
     ]
    }
   ],
   "source": [
    "a=1.0\n",
    "b=a\n",
    "\n",
    "import math\n",
    "print(a.hex(), b.hex())\n",
    "\n",
    "for i in range (1, 100):\n",
    "    if (a.hex()==(b+pow(10, -i)).hex()):\n",
    "        print(\"they are the same at \", i, \" iteration\")\n",
    "        break\n",
    "    else:\n",
    "        print(\"different at \", i)"
   ]
  },
  {
   "cell_type": "markdown",
   "metadata": {},
   "source": [
    "5\\. Write a function that takes in input three parameters $a$, $b$ and $c$ and prints out the two solutions to the quadratic equation $ax^2+bx+c=0$ using the standard formula:\n",
    "$$\n",
    "x=\\frac{-b\\pm\\sqrt{b^2-4ac}}{2a}\n",
    "$$\n",
    "\n",
    "(a) use the program to compute the solution for $a=0.001$, $b=1000$ and $c=0.001$\n",
    "\n",
    "(b) re-express the standard solution formula by multiplying top and bottom by $-b\\mp\\sqrt{b^2-4ac}$ and again find the solution for $a=0.001$, $b=1000$ and $c=0.001$. How does it compare with what previously obtained? Why?\n",
    "\n",
    "(c) write a function that compute the roots of a quadratic equation accurately in all cases"
   ]
  },
  {
   "cell_type": "code",
   "execution_count": 5,
   "metadata": {},
   "outputs": [
    {
     "name": "stdout",
     "output_type": "stream",
     "text": [
      "(-9.999894245993346e-07, -999999.999999)\n",
      "(-9.999894245993346e-07, -999999.9999990001)\n",
      "(Decimal('-9.999894245993345767711238822E-7'), Decimal('-999999.9999989999897587189540'))\n"
     ]
    }
   ],
   "source": [
    "#MANCA PUNTO C\n",
    "\n",
    "import math\n",
    "from decimal import Decimal\n",
    "def solve1 (a, b, c):\n",
    "    d=math.sqrt(b*b-4*a*c)\n",
    "    return (-b+d)/(2*a) , (-b-d)/(2*a)\n",
    "\n",
    "def solve2 (a, b, c):\n",
    "    d=math.sqrt(b*b-4*a*c)\n",
    "    return (-b+d)*(-b-d)/((2*a)*(-b-d)),(-b-d)*(-b+d)/((2*a)*(-b+d))\n",
    "\n",
    "def solve3 (a,b,c):\n",
    "    a=Decimal(a)\n",
    "    b=Decimal(b)\n",
    "    c=Decimal(c)\n",
    "    d=Decimal(math.sqrt(b*b-4*a*c))\n",
    "    return Decimal((-b+d)/(2*a)) , Decimal((-b-d)/(2*a))\n",
    "\n",
    "print(solve1(0.001, 1000, 0.001))\n",
    "print(solve2(0.001, 1000, 0.001))\n",
    "print(solve3(0.001, 1000, 0.001))\n"
   ]
  },
  {
   "cell_type": "markdown",
   "metadata": {},
   "source": [
    "6\\. Write a program that implements the function $f(x)=x(x−1)$\n",
    "\n",
    "(a) Calculate the derivative of the function at the point $x = 1$ using the derivative definition:\n",
    "\n",
    "$$\n",
    "\\frac{{\\rm d}f}{{\\rm d}x} = \\lim_{\\delta\\to0} \\frac{f(x+\\delta)-f(x)}{\\delta}\n",
    "$$\n",
    "\n",
    "with $\\delta = 10^{−2}$. Calculate the true value of the same derivative analytically and compare with the answer your program gives. The two will not agree perfectly. Why not?\n",
    "\n",
    "(b) Repeat the calculation for $\\delta = 10^{−4}, 10^{−6}, 10^{−8}, 10^{−10}, 10^{−12}$ and $10^{−14}$. How does the accuracy scales with $\\delta$?"
   ]
  },
  {
   "cell_type": "code",
   "execution_count": 6,
   "metadata": {},
   "outputs": [
    {
     "name": "stdout",
     "output_type": "stream",
     "text": [
      "0\n",
      "Analitic:  1\n",
      "Numeric: \n",
      "Delta 1e- 2 1.010000000000001\n",
      "Delta 1e- 4 1.0000999999998899\n",
      "Delta 1e- 6 1.0000009999177333\n",
      "Delta 1e- 8 1.0000000039225287\n",
      "Delta 1e- 10 1.000000082840371\n",
      "Delta 1e- 12 1.0000889005833413\n",
      "Delta 1e- 14 0.9992007221626509\n"
     ]
    }
   ],
   "source": [
    "def func (x):\n",
    "    return x*(x-1)\n",
    "\n",
    "def NumDer (x0, delta):\n",
    "    return (func(x+delta)-func(x))/delta\n",
    "\n",
    "def AnalitycDer(x0): #d/dx x(x-1)= 2x-1\n",
    "    return 2*x0-1\n",
    "\n",
    "x=1\n",
    "print (func(x))\n",
    "print (\"Analitic: \",AnalitycDer(x))\n",
    "print(\"Numeric: \")\n",
    "for i in range (2, 16, 2):\n",
    "    print (\"Delta 1e-\",i,NumDer(x,10**(-i)))\n",
    "\n"
   ]
  },
  {
   "cell_type": "markdown",
   "metadata": {},
   "source": [
    "7\\. Consider the integral of the semicircle of radius 1:\n",
    "$$\n",
    "I=\\int_{-1}^{1} \\sqrt(1-x^2) {\\rm d}x\n",
    "$$\n",
    "which it's known to be $I=\\frac{\\pi}{2}=1.57079632679...$.\n",
    "Alternatively we can use the Riemann definition of the integral:\n",
    "$$\n",
    "I=\\lim_{N\\to\\infty} \\sum_{k=1}^{N} h y_k \n",
    "$$\n",
    "\n",
    "with $h=2/N$ the width of each of the $N$ slices the domain is divided into and where\n",
    "$y_k$ is the value of the function at the $k-$th slice.\n",
    "\n",
    "(a) Write a programe to compute the integral with $N=100$. How does the result compares to the true value?\n",
    "\n",
    "(b) How much can $N$ be increased if the computation needs to be run in less than a second? What is the gain in running it for 1 minute? \n"
   ]
  },
  {
   "cell_type": "code",
   "execution_count": 7,
   "metadata": {},
   "outputs": [
    {
     "name": "stdout",
     "output_type": "stream",
     "text": [
      "N=  100\n",
      "My integral:  1.56913425554925\n",
      "True value:   1.5707963267948966\n",
      "Difference:   -0.0016620712456465458\n",
      "CPU times: user 884 ms, sys: 289 ms, total: 1.17 s\n",
      "Wall time: 844 ms\n",
      "N=  3200000\n",
      "Difference:   -2.905296003774538e-10\n"
     ]
    }
   ],
   "source": [
    "import math \n",
    "import numpy as np\n",
    "from math import pi\n",
    "\n",
    "def func(x):\n",
    "    return math.sqrt(1.0-x*x)\n",
    "\n",
    "def integrate(iterations, xmin, xmax):\n",
    "    delta=(xmax-xmin)/iterations\n",
    "    integral=np.sum([func(xmin+delta*i)*delta for i in range(0, iterations+1)])\n",
    "    return integral \n",
    "\n",
    "N=100\n",
    "print(\"N= \",N)\n",
    "print(\"My integral: \", integrate(N, -1,1))\n",
    "print(\"True value:  \", pi/2)\n",
    "print(\"Difference:  \", integrate(N, -1,1)-pi/2)\n",
    "    \n",
    "N1=3200000\n",
    "%time integrate(N1, -1,1)\n",
    "print(\"N= \",N1)\n",
    "print(\"Difference:  \", integrate(N1, -1,1)-pi/2)\n"
   ]
  },
  {
   "cell_type": "code",
   "execution_count": null,
   "metadata": {},
   "outputs": [],
   "source": []
  }
 ],
 "metadata": {
  "kernelspec": {
   "display_name": "Python 3",
   "language": "python",
   "name": "python3"
  },
  "language_info": {
   "codemirror_mode": {
    "name": "ipython",
    "version": 3
   },
   "file_extension": ".py",
   "mimetype": "text/x-python",
   "name": "python",
   "nbconvert_exporter": "python",
   "pygments_lexer": "ipython3",
   "version": "3.7.3"
  }
 },
 "nbformat": 4,
 "nbformat_minor": 4
}
