{
 "cells": [
  {
   "cell_type": "markdown",
   "metadata": {},
   "source": [
    "### Numpy basics"
   ]
  },
  {
   "cell_type": "markdown",
   "metadata": {},
   "source": [
    "1\\. Find the row, column and overall means for the following matrix:\n",
    "\n",
    "```python\n",
    "m = np.arange(12).reshape((3,4))\n",
    "```"
   ]
  },
  {
   "cell_type": "code",
   "execution_count": 1,
   "metadata": {},
   "outputs": [
    {
     "name": "stdout",
     "output_type": "stream",
     "text": [
      "[[ 0  1  2  3]\n",
      " [ 4  5  6  7]\n",
      " [ 8  9 10 11]]\n",
      "Row mean =     [1.5 5.5 9.5]\n",
      "Column mean =  [4. 5. 6. 7.]\n",
      "Overall mean = 5.5\n"
     ]
    }
   ],
   "source": [
    "import numpy as np\n",
    "#dovrebbe essre una matrice 3x4\n",
    "m = np.arange(12).reshape((3,4))\n",
    "print (m)\n",
    "\n",
    "print(\"Row mean =    \", m.mean(axis=1))\n",
    "print(\"Column mean = \", m.mean(axis=0))\n",
    "print(\"Overall mean =\", m.mean())"
   ]
  },
  {
   "cell_type": "markdown",
   "metadata": {},
   "source": [
    "2\\. Find the outer product of the following two vecotrs\n",
    "\n",
    "```python\n",
    "u = np.array([1,3,5,7])\n",
    "v = np.array([2,4,6,8])\n",
    "```\n",
    "\n",
    "Do this in the following ways:\n",
    "\n",
    "   * Using the function outer in numpy\n",
    "   * Using a nested for loop or list comprehension\n",
    "   * Using numpy broadcasting operatoins\n"
   ]
  },
  {
   "cell_type": "code",
   "execution_count": 2,
   "metadata": {},
   "outputs": [
    {
     "name": "stdout",
     "output_type": "stream",
     "text": [
      "[[ 2  4  6  8]\n",
      " [ 6 12 18 24]\n",
      " [10 20 30 40]\n",
      " [14 28 42 56]]\n",
      "[[ 2  6 10 14]\n",
      " [ 4 12 20 28]\n",
      " [ 6 18 30 42]\n",
      " [ 8 24 40 56]]\n",
      "[[ 2  6 10 14]\n",
      " [ 4 12 20 28]\n",
      " [ 6 18 30 42]\n",
      " [ 8 24 40 56]]\n",
      "[[ 2  6 10 14]\n",
      " [ 4 12 20 28]\n",
      " [ 6 18 30 42]\n",
      " [ 8 24 40 56]]\n"
     ]
    }
   ],
   "source": [
    "u = np.array([1,3,5,7])\n",
    "v = np.array([2,4,6,8])\n",
    "\n",
    "\n",
    "def outProd (x,y):\n",
    "    z=np.array([x * a for a in y]) \n",
    "    # z=np.array([[a*b for a in x] for b in y]) \n",
    "    return z\n",
    "\n",
    "print (np.outer(u,v))\n",
    "print (outProd(u,v))\n",
    "print (np.tile(u, (4,1))*v.reshape(4,1))\n",
    "print (u*v.reshape(4,1))"
   ]
  },
  {
   "cell_type": "markdown",
   "metadata": {},
   "source": [
    "3\\. Create a 10 by 6 matrix of random uniform numbers. Set all rows with any entry less than 0.1 to be zero\n",
    "\n",
    "Hint: Use the following numpy functions - np.random.random, np.any as well as Boolean indexing and the axis argument."
   ]
  },
  {
   "cell_type": "code",
   "execution_count": 3,
   "metadata": {},
   "outputs": [
    {
     "name": "stdout",
     "output_type": "stream",
     "text": [
      "[[0.45 0.69 0.55 0.99 0.23 0.99]\n",
      " [0.37 0.49 0.17 0.37 0.68 0.96]\n",
      " [0.46 0.83 0.84 0.2  0.06 0.94]\n",
      " [0.98 0.69 0.87 0.18 0.15 0.78]\n",
      " [0.76 0.77 0.74 0.7  0.58 0.8 ]\n",
      " [0.9  0.08 0.32 0.32 0.21 0.49]\n",
      " [0.73 0.72 0.73 0.53 0.69 0.56]\n",
      " [0.81 0.78 0.28 0.62 0.85 0.23]\n",
      " [0.12 0.32 0.22 0.66 0.33 0.82]\n",
      " [0.47 0.91 0.14 0.68 0.8  0.92]]\n",
      "\n",
      "[[0.45 0.69 0.55 0.99 0.23 0.99]\n",
      " [0.37 0.49 0.17 0.37 0.68 0.96]\n",
      " [0.46 0.83 0.84 0.2  0.   0.94]\n",
      " [0.98 0.69 0.87 0.18 0.15 0.78]\n",
      " [0.76 0.77 0.74 0.7  0.58 0.8 ]\n",
      " [0.9  0.   0.32 0.32 0.21 0.49]\n",
      " [0.73 0.72 0.73 0.53 0.69 0.56]\n",
      " [0.81 0.78 0.28 0.62 0.85 0.23]\n",
      " [0.12 0.32 0.22 0.66 0.33 0.82]\n",
      " [0.47 0.91 0.14 0.68 0.8  0.92]]\n"
     ]
    }
   ],
   "source": [
    "import numpy.random as npr\n",
    "\n",
    "a=np.random.random(60)\n",
    "m=a.reshape(10,6)\n",
    "print(m.round(2))\n",
    "print(\"\")\n",
    "m[m<0.1]=0\n",
    "print(m.round(2))"
   ]
  },
  {
   "cell_type": "markdown",
   "metadata": {},
   "source": [
    "4\\. Use np.linspace to create an array of 100 numbers between 0 and 2π (includsive).\n",
    "\n",
    "  * Extract every 10th element using slice notation\n",
    "  * Reverse the array using slice notation\n",
    "  * Extract elements where the absolute difference between the sine and cosine functions evaluated at that element is less than 0.1\n",
    "  * Make a plot showing the sin and cos functions and indicate where they are close"
   ]
  },
  {
   "cell_type": "code",
   "execution_count": 4,
   "metadata": {},
   "outputs": [
    {
     "name": "stdout",
     "output_type": "stream",
     "text": [
      "[0.         0.06346652 0.12693304 0.19039955 0.25386607 0.31733259\n",
      " 0.38079911 0.44426563 0.50773215 0.57119866 0.63466518 0.6981317\n",
      " 0.76159822 0.82506474 0.88853126 0.95199777 1.01546429 1.07893081\n",
      " 1.14239733 1.20586385 1.26933037 1.33279688 1.3962634  1.45972992\n",
      " 1.52319644 1.58666296 1.65012947 1.71359599 1.77706251 1.84052903\n",
      " 1.90399555 1.96746207 2.03092858 2.0943951  2.15786162 2.22132814\n",
      " 2.28479466 2.34826118 2.41172769 2.47519421 2.53866073 2.60212725\n",
      " 2.66559377 2.72906028 2.7925268  2.85599332 2.91945984 2.98292636\n",
      " 3.04639288 3.10985939 3.17332591 3.23679243 3.30025895 3.36372547\n",
      " 3.42719199 3.4906585  3.55412502 3.61759154 3.68105806 3.74452458\n",
      " 3.8079911  3.87145761 3.93492413 3.99839065 4.06185717 4.12532369\n",
      " 4.1887902  4.25225672 4.31572324 4.37918976 4.44265628 4.5061228\n",
      " 4.56958931 4.63305583 4.69652235 4.75998887 4.82345539 4.88692191\n",
      " 4.95038842 5.01385494 5.07732146 5.14078798 5.2042545  5.26772102\n",
      " 5.33118753 5.39465405 5.45812057 5.52158709 5.58505361 5.64852012\n",
      " 5.71198664 5.77545316 5.83891968 5.9023862  5.96585272 6.02931923\n",
      " 6.09278575 6.15625227 6.21971879 6.28318531]\n",
      "\n",
      "10th element\n",
      "[0.         0.57119866 1.14239733 1.71359599 2.28479466 2.85599332\n",
      " 3.42719199 3.99839065 4.56958931 5.14078798 5.71198664 6.28318531]\n",
      "\n",
      "reverse\n",
      "[6.28318531 5.71198664 5.14078798 4.56958931 3.99839065 3.42719199\n",
      " 2.85599332 2.28479466 1.71359599 1.14239733 0.57119866 0.        ]\n",
      "\n",
      "difference eval\n",
      "[0.76159822 0.82506474 3.87145761 3.93492413]\n"
     ]
    },
    {
     "data": {
      "text/plain": [
       "<matplotlib.collections.PathCollection at 0x7efbbb13bc18>"
      ]
     },
     "execution_count": 4,
     "metadata": {},
     "output_type": "execute_result"
    },
    {
     "data": {
      "image/png": "[encoded data removed]",
      "text/plain": [
       "<Figure size 432x288 with 1 Axes>"
      ]
     },
     "metadata": {
      "needs_background": "light"
     },
     "output_type": "display_data"
    }
   ],
   "source": [
    "import matplotlib.pyplot as plt\n",
    "\n",
    "import math\n",
    "a=np.linspace(0, 2*np.pi, 100)\n",
    "print (a)\n",
    "\n",
    "b=a[::9]\n",
    "print(\"\")\n",
    "print(\"10th element\")\n",
    "print(b)\n",
    "\n",
    "c=b[::-1]\n",
    "print(\"\")\n",
    "print(\"reverse\")\n",
    "print(c)\n",
    "\n",
    "d=a[[y for y in range(0,len(a)) if abs(np.sin(a[y])-np.cos(a[y]))<0.1]]\n",
    "print(\"\")\n",
    "print(\"difference eval\")\n",
    "print(d)\n",
    "\n",
    "%matplotlib inline\n",
    "e=[]\n",
    "for i in range (0,len(d),2):\n",
    "    e.append((d[i]+d[i+1])/2) #punto medio\n",
    "plt.plot(a, np.sin(a))\n",
    "plt.plot(a, np.cos(a))\n",
    "plt.scatter(e, np.sin(e), marker=\"+\", s=200)\n"
   ]
  },
  {
   "cell_type": "markdown",
   "metadata": {},
   "source": [
    "5\\. Create a matrix that shows the 10 by 10 multiplication table.\n",
    "\n",
    " * Find the trace of the matrix\n",
    " * Extract the anto-diagonal (this should be ```array([10, 18, 24, 28, 30, 30, 28, 24, 18, 10])```)\n",
    " * Extract the diagnoal offset by 1 upwards (this should be ```array([ 2,  6, 12, 20, 30, 42, 56, 72, 90])```)"
   ]
  },
  {
   "cell_type": "code",
   "execution_count": 5,
   "metadata": {},
   "outputs": [
    {
     "name": "stdout",
     "output_type": "stream",
     "text": [
      "[[  1   2   3   4   5   6   7   8   9  10]\n",
      " [  2   4   6   8  10  12  14  16  18  20]\n",
      " [  3   6   9  12  15  18  21  24  27  30]\n",
      " [  4   8  12  16  20  24  28  32  36  40]\n",
      " [  5  10  15  20  25  30  35  40  45  50]\n",
      " [  6  12  18  24  30  36  42  48  54  60]\n",
      " [  7  14  21  28  35  42  49  56  63  70]\n",
      " [  8  16  24  32  40  48  56  64  72  80]\n",
      " [  9  18  27  36  45  54  63  72  81  90]\n",
      " [ 10  20  30  40  50  60  70  80  90 100]]\n",
      "trace 385\n",
      "anti diag [10 18 24 28 30 30 28 24 18 10]\n",
      "uppuer diag [ 2  6 12 20 30 42 56 72 90]\n"
     ]
    }
   ],
   "source": [
    "a=np.array([[x*y for x in range (1,11)]for y in range (1,11)])\n",
    "print (a)\n",
    "print(\"trace\", np.sum([a[i][i]for i in range(len(a))]))\n",
    "print(\"anti diag\" ,a[9-np.arange(10), np.arange(10)])\n",
    "print(\"uppuer diag\", a[np.arange(1,10), np.arange(0,9)])"
   ]
  },
  {
   "cell_type": "markdown",
   "metadata": {},
   "source": [
    "6\\. Use broadcasting to create a grid of distances\n",
    "\n",
    "Route 66 crosses the following cities in the US: Chicago, Springfield, Saint-Louis, Tulsa, Oklahoma City, Amarillo, Santa Fe, Albuquerque, Flagstaff, Los Angeles\n",
    "The corresponding positions in miles are: 0, 198, 303, 736, 871, 1175, 1475, 1544, 1913, 2448\n",
    "\n",
    "  * Construct a 2D grid of distances among each city along Route 66\n",
    "  * Convert that in km (those savages...)"
   ]
  },
  {
   "cell_type": "code",
   "execution_count": 6,
   "metadata": {},
   "outputs": [
    {
     "name": "stdout",
     "output_type": "stream",
     "text": [
      "savage grid: [[   0  198  303  736  871 1175 1475 1544 1913 2448]\n",
      " [ 198    0  105  538  673  977 1277 1346 1715 2250]\n",
      " [ 303  105    0  433  568  872 1172 1241 1610 2145]\n",
      " [ 736  538  433    0  135  439  739  808 1177 1712]\n",
      " [ 871  673  568  135    0  304  604  673 1042 1577]\n",
      " [1175  977  872  439  304    0  300  369  738 1273]\n",
      " [1475 1277 1172  739  604  300    0   69  438  973]\n",
      " [1544 1346 1241  808  673  369   69    0  369  904]\n",
      " [1913 1715 1610 1177 1042  738  438  369    0  535]\n",
      " [2448 2250 2145 1712 1577 1273  973  904  535    0]]\n",
      "correct grid: [[   0.   318.6  487.6 1184.5 1401.7 1891.  2373.8 2484.8 3078.7 3939.7]\n",
      " [ 318.6    0.   169.   865.8 1083.1 1572.3 2055.1 2166.2 2760.  3621. ]\n",
      " [ 487.6  169.     0.   696.8  914.1 1403.3 1886.1 1997.2 2591.  3452. ]\n",
      " [1184.5  865.8  696.8    0.   217.3  706.5 1189.3 1300.3 1894.2 2755.2]\n",
      " [1401.7 1083.1  914.1  217.3    0.   489.2  972.  1083.1 1676.9 2537.9]\n",
      " [1891.  1572.3 1403.3  706.5  489.2    0.   482.8  593.8 1187.7 2048.7]\n",
      " [2373.8 2055.1 1886.1 1189.3  972.   482.8    0.   111.   704.9 1565.9]\n",
      " [2484.8 2166.2 1997.2 1300.3 1083.1  593.8  111.     0.   593.8 1454.8]\n",
      " [3078.7 2760.  2591.  1894.2 1676.9 1187.7  704.9  593.8    0.   861. ]\n",
      " [3939.7 3621.  3452.  2755.2 2537.9 2048.7 1565.9 1454.8  861.     0. ]]\n"
     ]
    }
   ],
   "source": [
    "pos=[0,198, 303, 736, 871, 1175, 1475, 1544, 1913, 2448]\n",
    "grid=np.array([abs(ip-jp) for ip in pos for jp in pos]).reshape((10,10))\n",
    "print(\"savage grid:\", grid)\n",
    "grid=(grid*1.60934).round(1)\n",
    "print(\"correct grid:\", grid)"
   ]
  },
  {
   "cell_type": "markdown",
   "metadata": {},
   "source": [
    "7\\. Prime numbers sieve: compute the prime numbers in the 0-N (N=99 to start with) range with a sieve (mask).\n",
    "  * Constract a shape (100,) boolean array, the mask\n",
    "  * Identify the multiples of each number starting from 2 and set accordingly the corresponding mask element\n",
    "  * Apply the mask to obtain an array of ordered prime numbers\n",
    "  * Check the performances (timeit); how does it scale with N?\n",
    "  * Implement the optimization suggested in the [sieve of Eratosthenes](https://en.wikipedia.org/wiki/Sieve_of_Eratosthenes)"
   ]
  },
  {
   "cell_type": "code",
   "execution_count": 7,
   "metadata": {},
   "outputs": [
    {
     "name": "stdout",
     "output_type": "stream",
     "text": [
      "Primes:  [ 0  1  2  3  5  7 11 13 17 19 23 29 31 37 41 43 47 53 59 61 67 71 73 79\n",
      " 83 89 97]\n",
      "essendo un algoritmo n^2 cresce come un polinomio di secondo grado come mi aspetto\n"
     ]
    },
    {
     "data": {
      "image/png": "[encoded data removed]",
      "text/plain": [
       "<Figure size 432x288 with 1 Axes>"
      ]
     },
     "metadata": {
      "needs_background": "light"
     },
     "output_type": "display_data"
    }
   ],
   "source": [
    "import time\n",
    "import matplotlib.pyplot as plt\n",
    "\n",
    "def Mask(n):\n",
    "    m=np.full(n, 1, dtype=bool)\n",
    "    for i in range (2,len(m)):\n",
    "        prime=True\n",
    "        for j in range (2,i):\n",
    "            if i%j==0:\n",
    "                prime=False\n",
    "        m[i]=prime\n",
    "    return m\n",
    "\n",
    "m=Mask(100)\n",
    "l=np.arange(0, 100, 1)\n",
    "primes=l[m]\n",
    "print(\"Primes: \", primes)\n",
    "\n",
    "times=np.array([])\n",
    "for i in range (0, 5000, 200):\n",
    "    start=time.time()\n",
    "    m=Mask(i)\n",
    "    stop=time.time()\n",
    "    times=np.append(times,stop-start)\n",
    "\n",
    "%matplotlib inline\n",
    "plt.plot(np.arange(0,5000,200), times)\n",
    "\n",
    "print(\"essendo un algoritmo n^2 cresce come un polinomio di secondo grado come mi aspetto\")"
   ]
  },
  {
   "cell_type": "code",
   "execution_count": 8,
   "metadata": {},
   "outputs": [
    {
     "name": "stdout",
     "output_type": "stream",
     "text": [
      "Sieve primes:  [  1   2   3   5   7  11  13  17  19  23  29  31  37  41  43  47  53  59\n",
      "  61  67  71  73  79  83  89  97 101 103 107 109 113 127 131 137 139 149\n",
      " 151 157 163 167 173 179 181 191 193 197 199 211 223 227 229 233 239 241\n",
      " 251 257 263 269 271 277 281 283 293 307 311 313 317 331 337 347 349 353\n",
      " 359 367 373 379 383 389 397 401 409 419 421 431 433 439 443 449 457 461\n",
      " 463 467 479 487 491 499 503 509 521 523 541 547 557 563 569 571 577 587\n",
      " 593 599 601 607 613 617 619 631 641 643 647 653 659 661 673 677 683 691\n",
      " 701 709 719 727 733 739 743 751 757 761 769 773 787 797 809 811 821 823\n",
      " 827 829 839 853 857 859 863 877 881 883 887 907 911 919 929 937 941 947\n",
      " 953 967 971 977 983 991 997]\n",
      "Cresce allo stesso modo ma ci mette molto meno\n"
     ]
    },
    {
     "data": {
      "image/png": "[encoded data removed]",
      "text/plain": [
       "<Figure size 432x288 with 1 Axes>"
      ]
     },
     "metadata": {
      "needs_background": "light"
     },
     "output_type": "display_data"
    }
   ],
   "source": [
    "def Sieve (n):\n",
    "    mults= []\n",
    "    primes=[1]\n",
    "    for i in range(2, n+1):\n",
    "        if i not in mults:\n",
    "            primes.append(i)\n",
    "            for j in range (i**2, n+1, i):\n",
    "                mults.append(j)\n",
    "    return np.array(primes)\n",
    "\n",
    "print(\"Sieve primes: \", Sieve(1000))\n",
    "\n",
    "times=np.array([])\n",
    "for i in range (0, 5000, 200):\n",
    "    start=time.time()\n",
    "    m=Sieve(i)\n",
    "    stop=time.time()\n",
    "    times=np.append(times,stop-start)\n",
    "\n",
    "%matplotlib inline\n",
    "plt.plot(np.arange(0,5000,200), times)\n",
    "\n",
    "print(\"Cresce allo stesso modo ma ci mette molto meno\")"
   ]
  },
  {
   "cell_type": "markdown",
   "metadata": {},
   "source": [
    "8\\. Diffusion using random walk\n",
    "\n",
    "Consider a simple random walk process: at each step in time, a walker jumps right or left (+1 or -1) with equal probability. The goal is to find the typical distance from the origin of a random walker after a given amount of time. \n",
    "To do that, let's simulate many walkers and create a 2D array with each walker as a raw and the actual time evolution as columns\n",
    "\n",
    "  * Take 1000 walkers and let them walk for 200 steps\n",
    "  * Use randint to create a 2D array of size walkers x steps with values -1 or 1\n",
    "  * Build the actual walking distances for each walker (i.e. another 2D array \"summing on each raw\")\n",
    "  * Take the square of that 2D array (elementwise)\n",
    "  * Compute the mean of the squared distances at each step (i.e. the mean along the columns)\n",
    "  * Plot the average distances (sqrt(distance\\*\\*2)) as a function of time (step)\n",
    "  \n",
    "Did you get what you expected?"
   ]
  },
  {
   "cell_type": "code",
   "execution_count": 9,
   "metadata": {},
   "outputs": [
    {
     "data": {
      "text/plain": [
       "Text(0, 0.5, 'dist')"
      ]
     },
     "execution_count": 9,
     "metadata": {},
     "output_type": "execute_result"
    },
    {
     "data": {
      "image/png": "[encoded data removed]",
      "text/plain": [
       "<Figure size 432x288 with 1 Axes>"
      ]
     },
     "metadata": {
      "needs_background": "light"
     },
     "output_type": "display_data"
    }
   ],
   "source": [
    "rnd_wlk=1000\n",
    "steps=200\n",
    "a=np.random.randint(2,size=(rnd_wlk,steps))\n",
    "#print(a)\n",
    "dist= np.zeros((rnd_wlk,steps+1))\n",
    "np.place(a, a == 0, -1)\n",
    "for i in range(a.shape[1]):\n",
    "    dist[:,i+1] = dist[:,i]+a[:,i]\n",
    "#print( dist)\n",
    "square = dist**2\n",
    "mean = square.mean(axis=0)   \n",
    "#print (meancols.round(1))\n",
    "time=np.arange(201)\n",
    "plt.plot(time, mean)\n",
    "plt.xlabel('time')\n",
    "plt.ylabel('dist')"
   ]
  },
  {
   "cell_type": "markdown",
   "metadata": {},
   "source": [
    "9\\. Analyze a data file \n",
    "  * Download the population of hares, lynxes and carrots at the beginning of the last century.\n",
    "    ```python\n",
    "    ! wget https://www.dropbox.com/s/3vigxoqayo389uc/populations.txt\n",
    "    ```\n",
    "\n",
    "  * Check the content by looking within the file\n",
    "  * Load the data (use an appropriate numpy method) into a 2D array\n",
    "  * Create arrays out of the columns, the arrays being (in order): *year*, *hares*, *lynxes*, *carrots* \n",
    "  * Plot the 3 populations over the years\n",
    "  * Compute the main statistical properties of the dataset (mean, std, correlations, etc.)\n",
    "  * Which species has the highest population each year?\n",
    "\n",
    "Do you feel there is some evident correlation here? [Studies](https://www.enr.gov.nt.ca/en/services/lynx/lynx-snowshoe-hare-cycle) tend to believe so."
   ]
  },
  {
   "cell_type": "code",
   "execution_count": 10,
   "metadata": {},
   "outputs": [
    {
     "name": "stdout",
     "output_type": "stream",
     "text": [
      "--2020-03-14 14:17:49--  https://www.dropbox.com/s/3vigxoqayo389uc/populations.txt\n",
      "Resolving www.dropbox.com (www.dropbox.com)... 162.125.69.1, 2620:100:6025:1::a27d:4501\n",
      "Connecting to www.dropbox.com (www.dropbox.com)|162.125.69.1|:443... connected.\n",
      "HTTP request sent, awaiting response... 301 Moved Permanently\n",
      "Location: /s/raw/3vigxoqayo389uc/populations.txt [following]\n",
      "--2020-03-14 14:17:51--  https://www.dropbox.com/s/raw/3vigxoqayo389uc/populations.txt\n",
      "Reusing existing connection to www.dropbox.com:443.\n",
      "HTTP request sent, awaiting response... 302 Found\n",
      "Location: https://ucbf70c99baed6e99a120c67fd25.dl.dropboxusercontent.com/cd/0/inline/Az5drprWdYY2bazJYgbzR0GiNYTreT7DRMRGqBAPQKyqcZ5pjWAjraKHffa4rn_tzVgWff5Azqrxi4haeTiVbpSsgDoDlkN8JzTgs99Rsobfxg/file# [following]\n",
      "--2020-03-14 14:17:52--  https://ucbf70c99baed6e99a120c67fd25.dl.dropboxusercontent.com/cd/0/inline/Az5drprWdYY2bazJYgbzR0GiNYTreT7DRMRGqBAPQKyqcZ5pjWAjraKHffa4rn_tzVgWff5Azqrxi4haeTiVbpSsgDoDlkN8JzTgs99Rsobfxg/file\n",
      "Resolving ucbf70c99baed6e99a120c67fd25.dl.dropboxusercontent.com (ucbf70c99baed6e99a120c67fd25.dl.dropboxusercontent.com)... 162.125.69.6, 2620:100:6025:6::a27d:4506\n",
      "Connecting to ucbf70c99baed6e99a120c67fd25.dl.dropboxusercontent.com (ucbf70c99baed6e99a120c67fd25.dl.dropboxusercontent.com)|162.125.69.6|:443... connected.\n",
      "HTTP request sent, awaiting response... 200 OK\n",
      "Length: 525 [text/plain]\n",
      "Saving to: ‘populations.txt.2’\n",
      "\n",
      "populations.txt.2   100%[===================>]     525  --.-KB/s    in 0s      \n",
      "\n",
      "2020-03-14 14:17:54 (167 MB/s) - ‘populations.txt.2’ saved [525/525]\n",
      "\n"
     ]
    }
   ],
   "source": [
    "! wget https://www.dropbox.com/s/3vigxoqayo389uc/populations.txt"
   ]
  },
  {
   "cell_type": "code",
   "execution_count": null,
   "metadata": {},
   "outputs": [],
   "source": []
  }
 ],
 "metadata": {
  "kernelspec": {
   "display_name": "Python 3",
   "language": "python",
   "name": "python3"
  },
  "language_info": {
   "codemirror_mode": {
    "name": "ipython",
    "version": 3
   },
   "file_extension": ".py",
   "mimetype": "text/x-python",
   "name": "python",
   "nbconvert_exporter": "python",
   "pygments_lexer": "ipython3",
   "version": "3.7.3"
  }
 },
 "nbformat": 4,
 "nbformat_minor": 4
}
